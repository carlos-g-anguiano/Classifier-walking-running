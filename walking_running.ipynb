{
  "nbformat": 4,
  "nbformat_minor": 0,
  "metadata": {
    "colab": {
      "provenance": [],
      "toc_visible": true
    },
    "kernelspec": {
      "name": "python3",
      "display_name": "Python 3"
    },
    "language_info": {
      "name": "python"
    }
  },
  "cells": [
    {
      "cell_type": "markdown",
      "source": [
        "# Data pre-processing"
      ],
      "metadata": {
        "id": "71SVRsTgQDN4"
      }
    },
    {
      "cell_type": "markdown",
      "source": [
        "Se utilizó el dataset de \"Datos de cinemática de movimiento\" en [Kaggle](https://www.kaggle.com/datasets/yasserh/kinematics-motion-data?resource=download)\n",
        "\n",
        "Es del interes de aplicaciones deportivas el identificar no solo la cantidad de pasos que una persona da durante el día, sino el tipo de ejercicio que está haciendo, en este caso, poder identificar si una persona está **corriendo** o **caminando**.\n",
        "\n",
        "Los datos recolectados son de dispositivos iPhone 5c en intervalos de 10 segundos, donde se etiquetan a los datos como:\n",
        "\n",
        "\n",
        "*   0: Caminando\n",
        "*   1: Corriendo\n",
        "\n",
        "Cada una de las filas tiene datos de giroscopio y aceleración, con los cuales se tiene una aplicación ad hoc para un modelo de clasificación. Se clasificará por 3 modelos para ver qué conclusiones se obtienen de cada uno:\n",
        "\n",
        "\n",
        "1.   Modelo de Boosting (LGBM): Uno de los métodos de clasificación por ensamble de \"weak learners\" más usados en el mercado tiene en una gran eficacia y exactitud (accuracy).\n",
        "2.   K-Neighbors: Es un modelo no paramétrico, en caso de que los datos no tengan una relación facil de distinguir, este podría tener mejores resultados \n",
        "3.   Regresión Logística: Puede ser que nuestros datos tengan una relación que los permita biseccionar a través de dos regiones en el espacio de variables, y en dado caso, un modelo barato como lo es la regresión logística podría resultar suficientemente adecuado para realizar esta clasificación.\n",
        "\n",
        "\n",
        "\n"
      ],
      "metadata": {
        "id": "vsH5zPcMM6fI"
      }
    },
    {
      "cell_type": "code",
      "execution_count": null,
      "metadata": {
        "id": "rRonELZmgIHk",
        "colab": {
          "base_uri": "https://localhost:8080/"
        },
        "outputId": "9e9cc895-28bb-4076-9bcd-593cb1c5ec13"
      },
      "outputs": [
        {
          "output_type": "stream",
          "name": "stdout",
          "text": [
            "Mounted at /content/drive\n"
          ]
        }
      ],
      "source": [
        "# Connecting to google drive\n",
        "\n",
        "from google.colab import drive\n",
        "drive.mount('/content/drive')"
      ]
    },
    {
      "cell_type": "code",
      "source": [
        "# General\n",
        "\n",
        "import pandas as pd\n",
        "import numpy as np\n",
        "import matplotlib.pyplot as plt\n",
        "\n",
        "# Classifiers\n",
        "\n",
        "from sklearn.ensemble import RandomForestClassifier\n",
        "from sklearn.ensemble import AdaBoostClassifier\n",
        "from sklearn.neighbors import KNeighborsClassifier\n",
        "from sklearn.linear_model import LogisticRegression\n",
        "import lightgbm as lgb\n",
        "\n",
        "\n",
        "# Train - Test split & Cross Validation\n",
        "\n",
        "from sklearn.model_selection import train_test_split, KFold, cross_validate, StratifiedKFold\n",
        "\n",
        "# Performance metics\n",
        "\n",
        "from sklearn.metrics import mean_squared_error\n",
        "from sklearn.metrics import accuracy_score, precision_score, recall_score, f1_score, classification_report\n",
        "\n",
        "# For normalization\n",
        "\n",
        "from sklearn import preprocessing\n"
      ],
      "metadata": {
        "id": "ItkJqrOUMwoE"
      },
      "execution_count": null,
      "outputs": []
    },
    {
      "cell_type": "code",
      "source": [
        "kinematics = pd.read_csv(\"drive/My Drive/Diplomado IA/Proyecto/Kinematics_Data.csv\")"
      ],
      "metadata": {
        "id": "KnvYaL6vNHkz"
      },
      "execution_count": null,
      "outputs": []
    },
    {
      "cell_type": "code",
      "source": [
        "kinematics.head()"
      ],
      "metadata": {
        "colab": {
          "base_uri": "https://localhost:8080/",
          "height": 206
        },
        "id": "HKCuMfsHP-_f",
        "outputId": "6cb278d4-a968-4cef-c410-620345ef4c19"
      },
      "execution_count": null,
      "outputs": [
        {
          "output_type": "execute_result",
          "data": {
            "text/plain": [
              "        date                time username  wrist  activity  acceleration_x  \\\n",
              "0  2017-6-30  13:51:15:847724020   viktor      0         0          0.2650   \n",
              "1  2017-6-30  13:51:16:246945023   viktor      0         0          0.6722   \n",
              "2  2017-6-30  13:51:16:446233987   viktor      0         0          0.4399   \n",
              "3  2017-6-30  13:51:16:646117985   viktor      0         0          0.3031   \n",
              "4  2017-6-30  13:51:16:846738994   viktor      0         0          0.4814   \n",
              "\n",
              "   acceleration_y  acceleration_z  gyro_x  gyro_y  gyro_z  \n",
              "0         -0.7814         -0.0076 -0.0590  0.0325 -2.9296  \n",
              "1         -1.1233         -0.2344 -0.1757  0.0208  0.1269  \n",
              "2         -1.4817          0.0722 -0.9105  0.1063 -2.4367  \n",
              "3         -0.8125          0.0888  0.1199 -0.4099 -2.9336  \n",
              "4         -0.9312          0.0359  0.0527  0.4379  2.4922  "
            ],
            "text/html": [
              "\n",
              "  <div id=\"df-f1d6b40a-d488-4840-a059-f82678458da4\">\n",
              "    <div class=\"colab-df-container\">\n",
              "      <div>\n",
              "<style scoped>\n",
              "    .dataframe tbody tr th:only-of-type {\n",
              "        vertical-align: middle;\n",
              "    }\n",
              "\n",
              "    .dataframe tbody tr th {\n",
              "        vertical-align: top;\n",
              "    }\n",
              "\n",
              "    .dataframe thead th {\n",
              "        text-align: right;\n",
              "    }\n",
              "</style>\n",
              "<table border=\"1\" class=\"dataframe\">\n",
              "  <thead>\n",
              "    <tr style=\"text-align: right;\">\n",
              "      <th></th>\n",
              "      <th>date</th>\n",
              "      <th>time</th>\n",
              "      <th>username</th>\n",
              "      <th>wrist</th>\n",
              "      <th>activity</th>\n",
              "      <th>acceleration_x</th>\n",
              "      <th>acceleration_y</th>\n",
              "      <th>acceleration_z</th>\n",
              "      <th>gyro_x</th>\n",
              "      <th>gyro_y</th>\n",
              "      <th>gyro_z</th>\n",
              "    </tr>\n",
              "  </thead>\n",
              "  <tbody>\n",
              "    <tr>\n",
              "      <th>0</th>\n",
              "      <td>2017-6-30</td>\n",
              "      <td>13:51:15:847724020</td>\n",
              "      <td>viktor</td>\n",
              "      <td>0</td>\n",
              "      <td>0</td>\n",
              "      <td>0.2650</td>\n",
              "      <td>-0.7814</td>\n",
              "      <td>-0.0076</td>\n",
              "      <td>-0.0590</td>\n",
              "      <td>0.0325</td>\n",
              "      <td>-2.9296</td>\n",
              "    </tr>\n",
              "    <tr>\n",
              "      <th>1</th>\n",
              "      <td>2017-6-30</td>\n",
              "      <td>13:51:16:246945023</td>\n",
              "      <td>viktor</td>\n",
              "      <td>0</td>\n",
              "      <td>0</td>\n",
              "      <td>0.6722</td>\n",
              "      <td>-1.1233</td>\n",
              "      <td>-0.2344</td>\n",
              "      <td>-0.1757</td>\n",
              "      <td>0.0208</td>\n",
              "      <td>0.1269</td>\n",
              "    </tr>\n",
              "    <tr>\n",
              "      <th>2</th>\n",
              "      <td>2017-6-30</td>\n",
              "      <td>13:51:16:446233987</td>\n",
              "      <td>viktor</td>\n",
              "      <td>0</td>\n",
              "      <td>0</td>\n",
              "      <td>0.4399</td>\n",
              "      <td>-1.4817</td>\n",
              "      <td>0.0722</td>\n",
              "      <td>-0.9105</td>\n",
              "      <td>0.1063</td>\n",
              "      <td>-2.4367</td>\n",
              "    </tr>\n",
              "    <tr>\n",
              "      <th>3</th>\n",
              "      <td>2017-6-30</td>\n",
              "      <td>13:51:16:646117985</td>\n",
              "      <td>viktor</td>\n",
              "      <td>0</td>\n",
              "      <td>0</td>\n",
              "      <td>0.3031</td>\n",
              "      <td>-0.8125</td>\n",
              "      <td>0.0888</td>\n",
              "      <td>0.1199</td>\n",
              "      <td>-0.4099</td>\n",
              "      <td>-2.9336</td>\n",
              "    </tr>\n",
              "    <tr>\n",
              "      <th>4</th>\n",
              "      <td>2017-6-30</td>\n",
              "      <td>13:51:16:846738994</td>\n",
              "      <td>viktor</td>\n",
              "      <td>0</td>\n",
              "      <td>0</td>\n",
              "      <td>0.4814</td>\n",
              "      <td>-0.9312</td>\n",
              "      <td>0.0359</td>\n",
              "      <td>0.0527</td>\n",
              "      <td>0.4379</td>\n",
              "      <td>2.4922</td>\n",
              "    </tr>\n",
              "  </tbody>\n",
              "</table>\n",
              "</div>\n",
              "      <button class=\"colab-df-convert\" onclick=\"convertToInteractive('df-f1d6b40a-d488-4840-a059-f82678458da4')\"\n",
              "              title=\"Convert this dataframe to an interactive table.\"\n",
              "              style=\"display:none;\">\n",
              "        \n",
              "  <svg xmlns=\"http://www.w3.org/2000/svg\" height=\"24px\"viewBox=\"0 0 24 24\"\n",
              "       width=\"24px\">\n",
              "    <path d=\"M0 0h24v24H0V0z\" fill=\"none\"/>\n",
              "    <path d=\"M18.56 5.44l.94 2.06.94-2.06 2.06-.94-2.06-.94-.94-2.06-.94 2.06-2.06.94zm-11 1L8.5 8.5l.94-2.06 2.06-.94-2.06-.94L8.5 2.5l-.94 2.06-2.06.94zm10 10l.94 2.06.94-2.06 2.06-.94-2.06-.94-.94-2.06-.94 2.06-2.06.94z\"/><path d=\"M17.41 7.96l-1.37-1.37c-.4-.4-.92-.59-1.43-.59-.52 0-1.04.2-1.43.59L10.3 9.45l-7.72 7.72c-.78.78-.78 2.05 0 2.83L4 21.41c.39.39.9.59 1.41.59.51 0 1.02-.2 1.41-.59l7.78-7.78 2.81-2.81c.8-.78.8-2.07 0-2.86zM5.41 20L4 18.59l7.72-7.72 1.47 1.35L5.41 20z\"/>\n",
              "  </svg>\n",
              "      </button>\n",
              "      \n",
              "  <style>\n",
              "    .colab-df-container {\n",
              "      display:flex;\n",
              "      flex-wrap:wrap;\n",
              "      gap: 12px;\n",
              "    }\n",
              "\n",
              "    .colab-df-convert {\n",
              "      background-color: #E8F0FE;\n",
              "      border: none;\n",
              "      border-radius: 50%;\n",
              "      cursor: pointer;\n",
              "      display: none;\n",
              "      fill: #1967D2;\n",
              "      height: 32px;\n",
              "      padding: 0 0 0 0;\n",
              "      width: 32px;\n",
              "    }\n",
              "\n",
              "    .colab-df-convert:hover {\n",
              "      background-color: #E2EBFA;\n",
              "      box-shadow: 0px 1px 2px rgba(60, 64, 67, 0.3), 0px 1px 3px 1px rgba(60, 64, 67, 0.15);\n",
              "      fill: #174EA6;\n",
              "    }\n",
              "\n",
              "    [theme=dark] .colab-df-convert {\n",
              "      background-color: #3B4455;\n",
              "      fill: #D2E3FC;\n",
              "    }\n",
              "\n",
              "    [theme=dark] .colab-df-convert:hover {\n",
              "      background-color: #434B5C;\n",
              "      box-shadow: 0px 1px 3px 1px rgba(0, 0, 0, 0.15);\n",
              "      filter: drop-shadow(0px 1px 2px rgba(0, 0, 0, 0.3));\n",
              "      fill: #FFFFFF;\n",
              "    }\n",
              "  </style>\n",
              "\n",
              "      <script>\n",
              "        const buttonEl =\n",
              "          document.querySelector('#df-f1d6b40a-d488-4840-a059-f82678458da4 button.colab-df-convert');\n",
              "        buttonEl.style.display =\n",
              "          google.colab.kernel.accessAllowed ? 'block' : 'none';\n",
              "\n",
              "        async function convertToInteractive(key) {\n",
              "          const element = document.querySelector('#df-f1d6b40a-d488-4840-a059-f82678458da4');\n",
              "          const dataTable =\n",
              "            await google.colab.kernel.invokeFunction('convertToInteractive',\n",
              "                                                     [key], {});\n",
              "          if (!dataTable) return;\n",
              "\n",
              "          const docLinkHtml = 'Like what you see? Visit the ' +\n",
              "            '<a target=\"_blank\" href=https://colab.research.google.com/notebooks/data_table.ipynb>data table notebook</a>'\n",
              "            + ' to learn more about interactive tables.';\n",
              "          element.innerHTML = '';\n",
              "          dataTable['output_type'] = 'display_data';\n",
              "          await google.colab.output.renderOutput(dataTable, element);\n",
              "          const docLink = document.createElement('div');\n",
              "          docLink.innerHTML = docLinkHtml;\n",
              "          element.appendChild(docLink);\n",
              "        }\n",
              "      </script>\n",
              "    </div>\n",
              "  </div>\n",
              "  "
            ]
          },
          "metadata": {},
          "execution_count": 4
        }
      ]
    },
    {
      "cell_type": "code",
      "source": [
        "# Creando el dataset con dummies\n",
        "\n",
        "columns = ['activity_1','acceleration_x', 'acceleration_y', 'acceleration_z',\n",
        "           'gyro_x', 'gyro_y', 'gyro_z']\n",
        "\n",
        "kinematics_dummies = (pd.get_dummies(kinematics,\n",
        "                                columns = ['activity'], # Variable objetivo dummy\n",
        "                                drop_first = [True])\n",
        "                  .loc[:,columns] # Selects only the columns of interest\n",
        "                  )\n",
        "\n",
        "kinematics_dummies.head(5)"
      ],
      "metadata": {
        "id": "-IZsaq_nQA4O",
        "colab": {
          "base_uri": "https://localhost:8080/",
          "height": 206
        },
        "outputId": "1fed089b-b61e-4f39-d654-47aa7c03c653"
      },
      "execution_count": null,
      "outputs": [
        {
          "output_type": "execute_result",
          "data": {
            "text/plain": [
              "   activity_1  acceleration_x  acceleration_y  acceleration_z  gyro_x  gyro_y  \\\n",
              "0           0          0.2650         -0.7814         -0.0076 -0.0590  0.0325   \n",
              "1           0          0.6722         -1.1233         -0.2344 -0.1757  0.0208   \n",
              "2           0          0.4399         -1.4817          0.0722 -0.9105  0.1063   \n",
              "3           0          0.3031         -0.8125          0.0888  0.1199 -0.4099   \n",
              "4           0          0.4814         -0.9312          0.0359  0.0527  0.4379   \n",
              "\n",
              "   gyro_z  \n",
              "0 -2.9296  \n",
              "1  0.1269  \n",
              "2 -2.4367  \n",
              "3 -2.9336  \n",
              "4  2.4922  "
            ],
            "text/html": [
              "\n",
              "  <div id=\"df-5a42c27c-87d0-498e-884d-c397cc39fbf2\">\n",
              "    <div class=\"colab-df-container\">\n",
              "      <div>\n",
              "<style scoped>\n",
              "    .dataframe tbody tr th:only-of-type {\n",
              "        vertical-align: middle;\n",
              "    }\n",
              "\n",
              "    .dataframe tbody tr th {\n",
              "        vertical-align: top;\n",
              "    }\n",
              "\n",
              "    .dataframe thead th {\n",
              "        text-align: right;\n",
              "    }\n",
              "</style>\n",
              "<table border=\"1\" class=\"dataframe\">\n",
              "  <thead>\n",
              "    <tr style=\"text-align: right;\">\n",
              "      <th></th>\n",
              "      <th>activity_1</th>\n",
              "      <th>acceleration_x</th>\n",
              "      <th>acceleration_y</th>\n",
              "      <th>acceleration_z</th>\n",
              "      <th>gyro_x</th>\n",
              "      <th>gyro_y</th>\n",
              "      <th>gyro_z</th>\n",
              "    </tr>\n",
              "  </thead>\n",
              "  <tbody>\n",
              "    <tr>\n",
              "      <th>0</th>\n",
              "      <td>0</td>\n",
              "      <td>0.2650</td>\n",
              "      <td>-0.7814</td>\n",
              "      <td>-0.0076</td>\n",
              "      <td>-0.0590</td>\n",
              "      <td>0.0325</td>\n",
              "      <td>-2.9296</td>\n",
              "    </tr>\n",
              "    <tr>\n",
              "      <th>1</th>\n",
              "      <td>0</td>\n",
              "      <td>0.6722</td>\n",
              "      <td>-1.1233</td>\n",
              "      <td>-0.2344</td>\n",
              "      <td>-0.1757</td>\n",
              "      <td>0.0208</td>\n",
              "      <td>0.1269</td>\n",
              "    </tr>\n",
              "    <tr>\n",
              "      <th>2</th>\n",
              "      <td>0</td>\n",
              "      <td>0.4399</td>\n",
              "      <td>-1.4817</td>\n",
              "      <td>0.0722</td>\n",
              "      <td>-0.9105</td>\n",
              "      <td>0.1063</td>\n",
              "      <td>-2.4367</td>\n",
              "    </tr>\n",
              "    <tr>\n",
              "      <th>3</th>\n",
              "      <td>0</td>\n",
              "      <td>0.3031</td>\n",
              "      <td>-0.8125</td>\n",
              "      <td>0.0888</td>\n",
              "      <td>0.1199</td>\n",
              "      <td>-0.4099</td>\n",
              "      <td>-2.9336</td>\n",
              "    </tr>\n",
              "    <tr>\n",
              "      <th>4</th>\n",
              "      <td>0</td>\n",
              "      <td>0.4814</td>\n",
              "      <td>-0.9312</td>\n",
              "      <td>0.0359</td>\n",
              "      <td>0.0527</td>\n",
              "      <td>0.4379</td>\n",
              "      <td>2.4922</td>\n",
              "    </tr>\n",
              "  </tbody>\n",
              "</table>\n",
              "</div>\n",
              "      <button class=\"colab-df-convert\" onclick=\"convertToInteractive('df-5a42c27c-87d0-498e-884d-c397cc39fbf2')\"\n",
              "              title=\"Convert this dataframe to an interactive table.\"\n",
              "              style=\"display:none;\">\n",
              "        \n",
              "  <svg xmlns=\"http://www.w3.org/2000/svg\" height=\"24px\"viewBox=\"0 0 24 24\"\n",
              "       width=\"24px\">\n",
              "    <path d=\"M0 0h24v24H0V0z\" fill=\"none\"/>\n",
              "    <path d=\"M18.56 5.44l.94 2.06.94-2.06 2.06-.94-2.06-.94-.94-2.06-.94 2.06-2.06.94zm-11 1L8.5 8.5l.94-2.06 2.06-.94-2.06-.94L8.5 2.5l-.94 2.06-2.06.94zm10 10l.94 2.06.94-2.06 2.06-.94-2.06-.94-.94-2.06-.94 2.06-2.06.94z\"/><path d=\"M17.41 7.96l-1.37-1.37c-.4-.4-.92-.59-1.43-.59-.52 0-1.04.2-1.43.59L10.3 9.45l-7.72 7.72c-.78.78-.78 2.05 0 2.83L4 21.41c.39.39.9.59 1.41.59.51 0 1.02-.2 1.41-.59l7.78-7.78 2.81-2.81c.8-.78.8-2.07 0-2.86zM5.41 20L4 18.59l7.72-7.72 1.47 1.35L5.41 20z\"/>\n",
              "  </svg>\n",
              "      </button>\n",
              "      \n",
              "  <style>\n",
              "    .colab-df-container {\n",
              "      display:flex;\n",
              "      flex-wrap:wrap;\n",
              "      gap: 12px;\n",
              "    }\n",
              "\n",
              "    .colab-df-convert {\n",
              "      background-color: #E8F0FE;\n",
              "      border: none;\n",
              "      border-radius: 50%;\n",
              "      cursor: pointer;\n",
              "      display: none;\n",
              "      fill: #1967D2;\n",
              "      height: 32px;\n",
              "      padding: 0 0 0 0;\n",
              "      width: 32px;\n",
              "    }\n",
              "\n",
              "    .colab-df-convert:hover {\n",
              "      background-color: #E2EBFA;\n",
              "      box-shadow: 0px 1px 2px rgba(60, 64, 67, 0.3), 0px 1px 3px 1px rgba(60, 64, 67, 0.15);\n",
              "      fill: #174EA6;\n",
              "    }\n",
              "\n",
              "    [theme=dark] .colab-df-convert {\n",
              "      background-color: #3B4455;\n",
              "      fill: #D2E3FC;\n",
              "    }\n",
              "\n",
              "    [theme=dark] .colab-df-convert:hover {\n",
              "      background-color: #434B5C;\n",
              "      box-shadow: 0px 1px 3px 1px rgba(0, 0, 0, 0.15);\n",
              "      filter: drop-shadow(0px 1px 2px rgba(0, 0, 0, 0.3));\n",
              "      fill: #FFFFFF;\n",
              "    }\n",
              "  </style>\n",
              "\n",
              "      <script>\n",
              "        const buttonEl =\n",
              "          document.querySelector('#df-5a42c27c-87d0-498e-884d-c397cc39fbf2 button.colab-df-convert');\n",
              "        buttonEl.style.display =\n",
              "          google.colab.kernel.accessAllowed ? 'block' : 'none';\n",
              "\n",
              "        async function convertToInteractive(key) {\n",
              "          const element = document.querySelector('#df-5a42c27c-87d0-498e-884d-c397cc39fbf2');\n",
              "          const dataTable =\n",
              "            await google.colab.kernel.invokeFunction('convertToInteractive',\n",
              "                                                     [key], {});\n",
              "          if (!dataTable) return;\n",
              "\n",
              "          const docLinkHtml = 'Like what you see? Visit the ' +\n",
              "            '<a target=\"_blank\" href=https://colab.research.google.com/notebooks/data_table.ipynb>data table notebook</a>'\n",
              "            + ' to learn more about interactive tables.';\n",
              "          element.innerHTML = '';\n",
              "          dataTable['output_type'] = 'display_data';\n",
              "          await google.colab.output.renderOutput(dataTable, element);\n",
              "          const docLink = document.createElement('div');\n",
              "          docLink.innerHTML = docLinkHtml;\n",
              "          element.appendChild(docLink);\n",
              "        }\n",
              "      </script>\n",
              "    </div>\n",
              "  </div>\n",
              "  "
            ]
          },
          "metadata": {},
          "execution_count": 5
        }
      ]
    },
    {
      "cell_type": "code",
      "source": [
        "columns.remove('activity_1')"
      ],
      "metadata": {
        "id": "-M60xKyaJvM0"
      },
      "execution_count": null,
      "outputs": []
    },
    {
      "cell_type": "code",
      "source": [
        "for col in columns:\n",
        "  plt.title(\"Hist col: \"+ col)\n",
        "  plt.hist(kinematics_dummies[col])\n",
        "  plt.show()"
      ],
      "metadata": {
        "colab": {
          "base_uri": "https://localhost:8080/",
          "height": 1000
        },
        "id": "mR8klY9VTm1z",
        "outputId": "a206104a-f7a5-4f09-da39-59834bf910ef"
      },
      "execution_count": null,
      "outputs": [
        {
          "output_type": "display_data",
          "data": {
            "text/plain": [
              "<Figure size 640x480 with 1 Axes>"
            ],
            "image/png": "[encoded data removed]"
          },
          "metadata": {}
        },
        {
          "output_type": "display_data",
          "data": {
            "text/plain": [
              "<Figure size 640x480 with 1 Axes>"
            ],
            "image/png": "[encoded data removed]"
          },
          "metadata": {}
        },
        {
          "output_type": "display_data",
          "data": {
            "text/plain": [
              "<Figure size 640x480 with 1 Axes>"
            ],
            "image/png": "[encoded data removed]"
          },
          "metadata": {}
        },
        {
          "output_type": "display_data",
          "data": {
            "text/plain": [
              "<Figure size 640x480 with 1 Axes>"
            ],
            "image/png": "[encoded data removed]"
          },
          "metadata": {}
        },
        {
          "output_type": "display_data",
          "data": {
            "text/plain": [
              "<Figure size 640x480 with 1 Axes>"
            ],
            "image/png": "[encoded data removed]"
          },
          "metadata": {}
        },
        {
          "output_type": "display_data",
          "data": {
            "text/plain": [
              "<Figure size 640x480 with 1 Axes>"
            ],
            "image/png": "[encoded data removed]"
          },
          "metadata": {}
        }
      ]
    },
    {
      "cell_type": "code",
      "source": [
        "#normal_data = preprocessing.normalize(kinematics_dummies, axis=0)"
      ],
      "metadata": {
        "id": "ylex7375sT1F"
      },
      "execution_count": null,
      "outputs": []
    },
    {
      "cell_type": "code",
      "source": [
        "#kinematics_dummies = pd.DataFrame(normal_data, columns=kinematics_dummies.columns)"
      ],
      "metadata": {
        "id": "bri4tISPsgn2"
      },
      "execution_count": null,
      "outputs": []
    },
    {
      "cell_type": "code",
      "source": [
        "#kinematics_dummies"
      ],
      "metadata": {
        "id": "bqYWzr3Xu969"
      },
      "execution_count": null,
      "outputs": []
    },
    {
      "cell_type": "code",
      "source": [
        "X = kinematics_dummies.copy().drop(columns=['activity_1']).values\n",
        "y = kinematics_dummies.copy()['activity_1'].values"
      ],
      "metadata": {
        "id": "auc4xBW7TVMp"
      },
      "execution_count": null,
      "outputs": []
    },
    {
      "cell_type": "code",
      "source": [
        "X = preprocessing.normalize(X)"
      ],
      "metadata": {
        "id": "Rlkcoh4WvZ4v"
      },
      "execution_count": null,
      "outputs": []
    },
    {
      "cell_type": "code",
      "source": [
        "# Evaluando la razón de datos\n",
        "\n",
        "kinematics_dummies['activity_1'].value_counts()"
      ],
      "metadata": {
        "colab": {
          "base_uri": "https://localhost:8080/"
        },
        "id": "e_pZ4JSpaWSN",
        "outputId": "b86d09f5-547a-43cb-a63a-bc9a15704ee4"
      },
      "execution_count": null,
      "outputs": [
        {
          "output_type": "execute_result",
          "data": {
            "text/plain": [
              "1    44365\n",
              "0    44223\n",
              "Name: activity_1, dtype: int64"
            ]
          },
          "metadata": {},
          "execution_count": 13
        }
      ]
    },
    {
      "cell_type": "code",
      "source": [
        "# No hay undersampling de la clase positiva\n",
        "print('balance ratio: ', round(y.sum()/(len(y) - y.sum()), 4))"
      ],
      "metadata": {
        "colab": {
          "base_uri": "https://localhost:8080/"
        },
        "id": "e0J14okPbqZL",
        "outputId": "c07fd838-ebcf-4bea-db1c-d30eb4386f21"
      },
      "execution_count": null,
      "outputs": [
        {
          "output_type": "stream",
          "name": "stdout",
          "text": [
            "balance ratio:  1.0032\n"
          ]
        }
      ]
    },
    {
      "cell_type": "code",
      "source": [
        "X_train, X_test, y_train, y_test = train_test_split(X, y,\n",
        "                                                    test_size = 0.2,\n",
        "                                                    stratify=y,\n",
        "                                                    random_state=1)"
      ],
      "metadata": {
        "id": "xS4kJYfVZRtc"
      },
      "execution_count": null,
      "outputs": []
    },
    {
      "cell_type": "markdown",
      "source": [
        "# Creating the models"
      ],
      "metadata": {
        "id": "IqbGnk6xcidp"
      }
    },
    {
      "cell_type": "code",
      "source": [
        "# Stratified Cross Validation instance\n",
        "\n",
        "skf = StratifiedKFold(n_splits=10, \n",
        "                      shuffle=True, \n",
        "                      random_state=1)"
      ],
      "metadata": {
        "id": "tVCPx9t6GJfJ"
      },
      "execution_count": null,
      "outputs": []
    },
    {
      "cell_type": "markdown",
      "source": [
        "We are going to use Bayesin hyperparameter optimization, since Grid Search is limited to the range of values that can be exammined."
      ],
      "metadata": {
        "id": "BxH8plkq7s2D"
      }
    },
    {
      "cell_type": "markdown",
      "source": [
        "https://www.kaggle.com/code/prashant111/xgboost-k-fold-cv-feature-importance?scriptVersionId=48823316&cellId=62"
      ],
      "metadata": {
        "id": "ThtzsRYBDosA"
      }
    },
    {
      "cell_type": "code",
      "source": [
        "!pip install scikit-optimize"
      ],
      "metadata": {
        "colab": {
          "base_uri": "https://localhost:8080/"
        },
        "id": "sbBvyRs57e0L",
        "outputId": "5f15df26-96bc-4ca2-be6c-552fc69924c2"
      },
      "execution_count": null,
      "outputs": [
        {
          "output_type": "stream",
          "name": "stdout",
          "text": [
            "Looking in indexes: https://pypi.org/simple, https://us-python.pkg.dev/colab-wheels/public/simple/\n",
            "Collecting scikit-optimize\n",
            "  Downloading scikit_optimize-0.9.0-py2.py3-none-any.whl (100 kB)\n",
            "\u001b[2K     \u001b[90m━━━━━━━━━━━━━━━━━━━━━━━━━━━━━━━━━━━━━━━\u001b[0m \u001b[32m100.3/100.3 kB\u001b[0m \u001b[31m6.0 MB/s\u001b[0m eta \u001b[36m0:00:00\u001b[0m\n",
            "\u001b[?25hRequirement already satisfied: joblib>=0.11 in /usr/local/lib/python3.10/dist-packages (from scikit-optimize) (1.2.0)\n",
            "Collecting pyaml>=16.9 (from scikit-optimize)\n",
            "  Downloading pyaml-23.5.9-py3-none-any.whl (17 kB)\n",
            "Requirement already satisfied: numpy>=1.13.3 in /usr/local/lib/python3.10/dist-packages (from scikit-optimize) (1.22.4)\n",
            "Requirement already satisfied: scipy>=0.19.1 in /usr/local/lib/python3.10/dist-packages (from scikit-optimize) (1.10.1)\n",
            "Requirement already satisfied: scikit-learn>=0.20.0 in /usr/local/lib/python3.10/dist-packages (from scikit-optimize) (1.2.2)\n",
            "Requirement already satisfied: PyYAML in /usr/local/lib/python3.10/dist-packages (from pyaml>=16.9->scikit-optimize) (6.0)\n",
            "Requirement already satisfied: threadpoolctl>=2.0.0 in /usr/local/lib/python3.10/dist-packages (from scikit-learn>=0.20.0->scikit-optimize) (3.1.0)\n",
            "Installing collected packages: pyaml, scikit-optimize\n",
            "Successfully installed pyaml-23.5.9 scikit-optimize-0.9.0\n"
          ]
        }
      ]
    },
    {
      "cell_type": "code",
      "source": [
        "from skopt import BayesSearchCV"
      ],
      "metadata": {
        "id": "lhcAUUsyvxf9"
      },
      "execution_count": null,
      "outputs": []
    },
    {
      "cell_type": "markdown",
      "source": [
        "We need a range of values to analyze the posible hyperparameters for each of the classification algorithms"
      ],
      "metadata": {
        "id": "p98c9bUa8bn8"
      }
    },
    {
      "cell_type": "markdown",
      "source": [
        "The hyperparameter optimization has to be done before the trainning, we can test the values before and after the hyperparameter optimization to compare the performance of the models before and after the process"
      ],
      "metadata": {
        "id": "Gg1WDCQo98pZ"
      }
    },
    {
      "cell_type": "markdown",
      "source": [
        "De la [documentación](https://lightgbm.readthedocs.io/en/latest/Parameters-Tuning.html#for-better-accuracy) de LightGBM: \n",
        "\n",
        "For Better Accuracy:\n",
        "\n",
        "*    Use large `max_bin` (may be slower)\n",
        "\n",
        "*    Use small `learning_rate` with large `num_iterations`\n",
        "\n",
        "*    Use large `num_leaves` (may cause over-fitting)\n",
        "\n",
        "*    Use bigger training data\n",
        "\n"
      ],
      "metadata": {
        "id": "kcJV13PcJeLb"
      }
    },
    {
      "cell_type": "markdown",
      "source": [
        "### LGBM"
      ],
      "metadata": {
        "id": "1NtxfzDCBQq0"
      }
    },
    {
      "cell_type": "code",
      "source": [
        "# hyperparameter space, we will set the hyperparameters to avoid better accuracy\n",
        "# Performance parameters\n",
        "\n",
        "param_grid_lgbm = {\n",
        "    'max_bin': (200, 300),\n",
        "    'num_leaves': (2,50),\n",
        "    'learning_rate': (0.0001, 0.1),\n",
        "    'num_iterations': (100, 300),\n",
        "}"
      ],
      "metadata": {
        "id": "txM_1z487ZaX"
      },
      "execution_count": null,
      "outputs": []
    },
    {
      "cell_type": "code",
      "source": [
        "lgbmc = lgb.LGBMClassifier()"
      ],
      "metadata": {
        "id": "MGvhU59Cbc0f"
      },
      "execution_count": null,
      "outputs": []
    },
    {
      "cell_type": "code",
      "source": [
        "clf_1 =  cross_validate(\n",
        "    lgbmc,\n",
        "    X_train, \n",
        "    y_train,\n",
        "    scoring='recall',\n",
        "    return_train_score=True,\n",
        "    cv=skf,\n",
        ")"
      ],
      "metadata": {
        "id": "Xjye0seJE-tQ"
      },
      "execution_count": null,
      "outputs": []
    },
    {
      "cell_type": "code",
      "source": [
        "clf_1.values()"
      ],
      "metadata": {
        "colab": {
          "base_uri": "https://localhost:8080/"
        },
        "id": "yRqz8X8NGP3o",
        "outputId": "73836fc8-aba1-4c3b-f073-a3731997cc67"
      },
      "execution_count": null,
      "outputs": [
        {
          "output_type": "execute_result",
          "data": {
            "text/plain": [
              "dict_values([array([3.98592782, 0.59256172, 0.67950892, 0.61331058, 0.58194947,\n",
              "       0.60926938, 0.62678289, 0.60247087, 0.56887031, 0.56677508]), array([0.03501439, 0.03411007, 0.03452444, 0.03390002, 0.03633094,\n",
              "       0.03463197, 0.03602171, 0.0337832 , 0.04952002, 0.03494573]), array([0.98083967, 0.98760214, 0.98872922, 0.98196675, 0.98281206,\n",
              "       0.9833756 , 0.98534799, 0.98534799, 0.98309859, 0.98140845]), array([0.98995085, 0.98988824, 0.98960649, 0.98988824, 0.98973171,\n",
              "       0.98938735, 0.98960649, 0.98982563, 0.9902323 , 0.99045144])])"
            ]
          },
          "metadata": {},
          "execution_count": 22
        }
      ]
    },
    {
      "cell_type": "code",
      "source": [
        "print(clf_1['train_score'].mean())\n",
        "print(clf_1['test_score'].mean())"
      ],
      "metadata": {
        "colab": {
          "base_uri": "https://localhost:8080/"
        },
        "id": "0h7et2nkGdLS",
        "outputId": "74f98d37-ddfc-4238-cfd7-c3a22a0fe5cf"
      },
      "execution_count": null,
      "outputs": [
        {
          "output_type": "stream",
          "name": "stdout",
          "text": [
            "0.9898568721902741\n",
            "0.9840528456736475\n"
          ]
        }
      ]
    },
    {
      "cell_type": "code",
      "source": [
        "plt.plot(range(10), clf_1['test_score'], label='Test')\n",
        "plt.plot(range(10), clf_1['train_score'], label='Train')\n",
        "plt.legend(title='Train vs Test:')\n",
        "plt.show()"
      ],
      "metadata": {
        "colab": {
          "base_uri": "https://localhost:8080/",
          "height": 430
        },
        "id": "OokfkswbGdYG",
        "outputId": "6d17ab5e-3e12-4ad2-851a-4353786a69b0"
      },
      "execution_count": null,
      "outputs": [
        {
          "output_type": "display_data",
          "data": {
            "text/plain": [
              "<Figure size 640x480 with 1 Axes>"
            ],
            "image/png": "[encoded data removed]"
          },
          "metadata": {}
        }
      ]
    },
    {
      "cell_type": "code",
      "source": [
        "lgbmc.fit(X_train, y_train)"
      ],
      "metadata": {
        "colab": {
          "base_uri": "https://localhost:8080/",
          "height": 74
        },
        "id": "jvUjLCpzBbwi",
        "outputId": "678848bd-9047-4bfc-dde0-225265ddafcb"
      },
      "execution_count": null,
      "outputs": [
        {
          "output_type": "execute_result",
          "data": {
            "text/plain": [
              "LGBMClassifier()"
            ],
            "text/html": [
              "<style>#sk-container-id-1 {color: black;background-color: white;}#sk-container-id-1 pre{padding: 0;}#sk-container-id-1 div.sk-toggleable {background-color: white;}#sk-container-id-1 label.sk-toggleable__label {cursor: pointer;display: block;width: 100%;margin-bottom: 0;padding: 0.3em;box-sizing: border-box;text-align: center;}#sk-container-id-1 label.sk-toggleable__label-arrow:before {content: \"▸\";float: left;margin-right: 0.25em;color: #696969;}#sk-container-id-1 label.sk-toggleable__label-arrow:hover:before {color: black;}#sk-container-id-1 div.sk-estimator:hover label.sk-toggleable__label-arrow:before {color: black;}#sk-container-id-1 div.sk-toggleable__content {max-height: 0;max-width: 0;overflow: hidden;text-align: left;background-color: #f0f8ff;}#sk-container-id-1 div.sk-toggleable__content pre {margin: 0.2em;color: black;border-radius: 0.25em;background-color: #f0f8ff;}#sk-container-id-1 input.sk-toggleable__control:checked~div.sk-toggleable__content {max-height: 200px;max-width: 100%;overflow: auto;}#sk-container-id-1 input.sk-toggleable__control:checked~label.sk-toggleable__label-arrow:before {content: \"▾\";}#sk-container-id-1 div.sk-estimator input.sk-toggleable__control:checked~label.sk-toggleable__label {background-color: #d4ebff;}#sk-container-id-1 div.sk-label input.sk-toggleable__control:checked~label.sk-toggleable__label {background-color: #d4ebff;}#sk-container-id-1 input.sk-hidden--visually {border: 0;clip: rect(1px 1px 1px 1px);clip: rect(1px, 1px, 1px, 1px);height: 1px;margin: -1px;overflow: hidden;padding: 0;position: absolute;width: 1px;}#sk-container-id-1 div.sk-estimator {font-family: monospace;background-color: #f0f8ff;border: 1px dotted black;border-radius: 0.25em;box-sizing: border-box;margin-bottom: 0.5em;}#sk-container-id-1 div.sk-estimator:hover {background-color: #d4ebff;}#sk-container-id-1 div.sk-parallel-item::after {content: \"\";width: 100%;border-bottom: 1px solid gray;flex-grow: 1;}#sk-container-id-1 div.sk-label:hover label.sk-toggleable__label {background-color: #d4ebff;}#sk-container-id-1 div.sk-serial::before {content: \"\";position: absolute;border-left: 1px solid gray;box-sizing: border-box;top: 0;bottom: 0;left: 50%;z-index: 0;}#sk-container-id-1 div.sk-serial {display: flex;flex-direction: column;align-items: center;background-color: white;padding-right: 0.2em;padding-left: 0.2em;position: relative;}#sk-container-id-1 div.sk-item {position: relative;z-index: 1;}#sk-container-id-1 div.sk-parallel {display: flex;align-items: stretch;justify-content: center;background-color: white;position: relative;}#sk-container-id-1 div.sk-item::before, #sk-container-id-1 div.sk-parallel-item::before {content: \"\";position: absolute;border-left: 1px solid gray;box-sizing: border-box;top: 0;bottom: 0;left: 50%;z-index: -1;}#sk-container-id-1 div.sk-parallel-item {display: flex;flex-direction: column;z-index: 1;position: relative;background-color: white;}#sk-container-id-1 div.sk-parallel-item:first-child::after {align-self: flex-end;width: 50%;}#sk-container-id-1 div.sk-parallel-item:last-child::after {align-self: flex-start;width: 50%;}#sk-container-id-1 div.sk-parallel-item:only-child::after {width: 0;}#sk-container-id-1 div.sk-dashed-wrapped {border: 1px dashed gray;margin: 0 0.4em 0.5em 0.4em;box-sizing: border-box;padding-bottom: 0.4em;background-color: white;}#sk-container-id-1 div.sk-label label {font-family: monospace;font-weight: bold;display: inline-block;line-height: 1.2em;}#sk-container-id-1 div.sk-label-container {text-align: center;}#sk-container-id-1 div.sk-container {/* jupyter's `normalize.less` sets `[hidden] { display: none; }` but bootstrap.min.css set `[hidden] { display: none !important; }` so we also need the `!important` here to be able to override the default hidden behavior on the sphinx rendered scikit-learn.org. See: https://github.com/scikit-learn/scikit-learn/issues/21755 */display: inline-block !important;position: relative;}#sk-container-id-1 div.sk-text-repr-fallback {display: none;}</style><div id=\"sk-container-id-1\" class=\"sk-top-container\"><div class=\"sk-text-repr-fallback\"><pre>LGBMClassifier()</pre><b>In a Jupyter environment, please rerun this cell to show the HTML representation or trust the notebook. <br />On GitHub, the HTML representation is unable to render, please try loading this page with nbviewer.org.</b></div><div class=\"sk-container\" hidden><div class=\"sk-item\"><div class=\"sk-estimator sk-toggleable\"><input class=\"sk-toggleable__control sk-hidden--visually\" id=\"sk-estimator-id-1\" type=\"checkbox\" checked><label for=\"sk-estimator-id-1\" class=\"sk-toggleable__label sk-toggleable__label-arrow\">LGBMClassifier</label><div class=\"sk-toggleable__content\"><pre>LGBMClassifier()</pre></div></div></div></div></div>"
            ]
          },
          "metadata": {},
          "execution_count": 25
        }
      ]
    },
    {
      "cell_type": "code",
      "source": [
        "# predict the results\n",
        "y_pred=lgbmc.predict(X_test)"
      ],
      "metadata": {
        "id": "ppLZ-W7PGwbN"
      },
      "execution_count": null,
      "outputs": []
    },
    {
      "cell_type": "code",
      "source": [
        "print(accuracy_score(y_test, y_pred))\n",
        "print(precision_score(y_test, y_pred))\n",
        "print(recall_score(y_test, y_pred))\n",
        "print(f1_score(y_test, y_pred))"
      ],
      "metadata": {
        "id": "-G6oBupCGzr8",
        "outputId": "a750ca31-5ed3-45fb-a131-31d9608ce035",
        "colab": {
          "base_uri": "https://localhost:8080/"
        }
      },
      "execution_count": null,
      "outputs": [
        {
          "output_type": "stream",
          "name": "stdout",
          "text": [
            "0.9892764420363472\n",
            "0.9917317929550346\n",
            "0.9868139298996957\n",
            "0.9892667495198283\n"
          ]
        }
      ]
    },
    {
      "cell_type": "markdown",
      "source": [
        "Ahora optimizando con hiperparámetros"
      ],
      "metadata": {
        "id": "-XX_DNOmWc11"
      }
    },
    {
      "cell_type": "code",
      "source": [
        "# set up the search\n",
        "search = BayesSearchCV(estimator=lgbmc,\n",
        "                       search_spaces=param_grid_lgbm,\n",
        "                       #scoring='roc_auc',\n",
        "                       cv=3,\n",
        "                       n_iter=30,\n",
        "                       random_state=10,\n",
        "                       n_jobs=-1,\n",
        "                       refit=True)"
      ],
      "metadata": {
        "id": "Yd3nyWWOWnr2"
      },
      "execution_count": null,
      "outputs": []
    },
    {
      "cell_type": "code",
      "source": [
        "search.fit(X_train, y_train)"
      ],
      "metadata": {
        "colab": {
          "base_uri": "https://localhost:8080/",
          "height": 152
        },
        "id": "M6ORGphbYbkH",
        "outputId": "321a95c3-0e40-431b-caf1-dfac996b2162"
      },
      "execution_count": null,
      "outputs": [
        {
          "output_type": "stream",
          "name": "stderr",
          "text": [
            "/usr/local/lib/python3.10/dist-packages/lightgbm/engine.py:177: UserWarning: Found `num_iterations` in params. Will use it instead of argument\n",
            "  _log_warning(f\"Found `{alias}` in params. Will use it instead of argument\")\n"
          ]
        },
        {
          "output_type": "execute_result",
          "data": {
            "text/plain": [
              "BayesSearchCV(cv=3, estimator=LGBMClassifier(), n_iter=30, n_jobs=-1,\n",
              "              random_state=10,\n",
              "              search_spaces={'learning_rate': (0.0001, 0.1),\n",
              "                             'max_bin': (200, 300),\n",
              "                             'num_iterations': (100, 300),\n",
              "                             'num_leaves': (2, 50)})"
            ],
            "text/html": [
              "<style>#sk-container-id-2 {color: black;background-color: white;}#sk-container-id-2 pre{padding: 0;}#sk-container-id-2 div.sk-toggleable {background-color: white;}#sk-container-id-2 label.sk-toggleable__label {cursor: pointer;display: block;width: 100%;margin-bottom: 0;padding: 0.3em;box-sizing: border-box;text-align: center;}#sk-container-id-2 label.sk-toggleable__label-arrow:before {content: \"▸\";float: left;margin-right: 0.25em;color: #696969;}#sk-container-id-2 label.sk-toggleable__label-arrow:hover:before {color: black;}#sk-container-id-2 div.sk-estimator:hover label.sk-toggleable__label-arrow:before {color: black;}#sk-container-id-2 div.sk-toggleable__content {max-height: 0;max-width: 0;overflow: hidden;text-align: left;background-color: #f0f8ff;}#sk-container-id-2 div.sk-toggleable__content pre {margin: 0.2em;color: black;border-radius: 0.25em;background-color: #f0f8ff;}#sk-container-id-2 input.sk-toggleable__control:checked~div.sk-toggleable__content {max-height: 200px;max-width: 100%;overflow: auto;}#sk-container-id-2 input.sk-toggleable__control:checked~label.sk-toggleable__label-arrow:before {content: \"▾\";}#sk-container-id-2 div.sk-estimator input.sk-toggleable__control:checked~label.sk-toggleable__label {background-color: #d4ebff;}#sk-container-id-2 div.sk-label input.sk-toggleable__control:checked~label.sk-toggleable__label {background-color: #d4ebff;}#sk-container-id-2 input.sk-hidden--visually {border: 0;clip: rect(1px 1px 1px 1px);clip: rect(1px, 1px, 1px, 1px);height: 1px;margin: -1px;overflow: hidden;padding: 0;position: absolute;width: 1px;}#sk-container-id-2 div.sk-estimator {font-family: monospace;background-color: #f0f8ff;border: 1px dotted black;border-radius: 0.25em;box-sizing: border-box;margin-bottom: 0.5em;}#sk-container-id-2 div.sk-estimator:hover {background-color: #d4ebff;}#sk-container-id-2 div.sk-parallel-item::after {content: \"\";width: 100%;border-bottom: 1px solid gray;flex-grow: 1;}#sk-container-id-2 div.sk-label:hover label.sk-toggleable__label {background-color: #d4ebff;}#sk-container-id-2 div.sk-serial::before {content: \"\";position: absolute;border-left: 1px solid gray;box-sizing: border-box;top: 0;bottom: 0;left: 50%;z-index: 0;}#sk-container-id-2 div.sk-serial {display: flex;flex-direction: column;align-items: center;background-color: white;padding-right: 0.2em;padding-left: 0.2em;position: relative;}#sk-container-id-2 div.sk-item {position: relative;z-index: 1;}#sk-container-id-2 div.sk-parallel {display: flex;align-items: stretch;justify-content: center;background-color: white;position: relative;}#sk-container-id-2 div.sk-item::before, #sk-container-id-2 div.sk-parallel-item::before {content: \"\";position: absolute;border-left: 1px solid gray;box-sizing: border-box;top: 0;bottom: 0;left: 50%;z-index: -1;}#sk-container-id-2 div.sk-parallel-item {display: flex;flex-direction: column;z-index: 1;position: relative;background-color: white;}#sk-container-id-2 div.sk-parallel-item:first-child::after {align-self: flex-end;width: 50%;}#sk-container-id-2 div.sk-parallel-item:last-child::after {align-self: flex-start;width: 50%;}#sk-container-id-2 div.sk-parallel-item:only-child::after {width: 0;}#sk-container-id-2 div.sk-dashed-wrapped {border: 1px dashed gray;margin: 0 0.4em 0.5em 0.4em;box-sizing: border-box;padding-bottom: 0.4em;background-color: white;}#sk-container-id-2 div.sk-label label {font-family: monospace;font-weight: bold;display: inline-block;line-height: 1.2em;}#sk-container-id-2 div.sk-label-container {text-align: center;}#sk-container-id-2 div.sk-container {/* jupyter's `normalize.less` sets `[hidden] { display: none; }` but bootstrap.min.css set `[hidden] { display: none !important; }` so we also need the `!important` here to be able to override the default hidden behavior on the sphinx rendered scikit-learn.org. See: https://github.com/scikit-learn/scikit-learn/issues/21755 */display: inline-block !important;position: relative;}#sk-container-id-2 div.sk-text-repr-fallback {display: none;}</style><div id=\"sk-container-id-2\" class=\"sk-top-container\"><div class=\"sk-text-repr-fallback\"><pre>BayesSearchCV(cv=3, estimator=LGBMClassifier(), n_iter=30, n_jobs=-1,\n",
              "              random_state=10,\n",
              "              search_spaces={&#x27;learning_rate&#x27;: (0.0001, 0.1),\n",
              "                             &#x27;max_bin&#x27;: (200, 300),\n",
              "                             &#x27;num_iterations&#x27;: (100, 300),\n",
              "                             &#x27;num_leaves&#x27;: (2, 50)})</pre><b>In a Jupyter environment, please rerun this cell to show the HTML representation or trust the notebook. <br />On GitHub, the HTML representation is unable to render, please try loading this page with nbviewer.org.</b></div><div class=\"sk-container\" hidden><div class=\"sk-item sk-dashed-wrapped\"><div class=\"sk-label-container\"><div class=\"sk-label sk-toggleable\"><input class=\"sk-toggleable__control sk-hidden--visually\" id=\"sk-estimator-id-2\" type=\"checkbox\" ><label for=\"sk-estimator-id-2\" class=\"sk-toggleable__label sk-toggleable__label-arrow\">BayesSearchCV</label><div class=\"sk-toggleable__content\"><pre>BayesSearchCV(cv=3, estimator=LGBMClassifier(), n_iter=30, n_jobs=-1,\n",
              "              random_state=10,\n",
              "              search_spaces={&#x27;learning_rate&#x27;: (0.0001, 0.1),\n",
              "                             &#x27;max_bin&#x27;: (200, 300),\n",
              "                             &#x27;num_iterations&#x27;: (100, 300),\n",
              "                             &#x27;num_leaves&#x27;: (2, 50)})</pre></div></div></div><div class=\"sk-parallel\"><div class=\"sk-parallel-item\"><div class=\"sk-item\"><div class=\"sk-label-container\"><div class=\"sk-label sk-toggleable\"><input class=\"sk-toggleable__control sk-hidden--visually\" id=\"sk-estimator-id-3\" type=\"checkbox\" ><label for=\"sk-estimator-id-3\" class=\"sk-toggleable__label sk-toggleable__label-arrow\">estimator: LGBMClassifier</label><div class=\"sk-toggleable__content\"><pre>LGBMClassifier()</pre></div></div></div><div class=\"sk-serial\"><div class=\"sk-item\"><div class=\"sk-estimator sk-toggleable\"><input class=\"sk-toggleable__control sk-hidden--visually\" id=\"sk-estimator-id-4\" type=\"checkbox\" ><label for=\"sk-estimator-id-4\" class=\"sk-toggleable__label sk-toggleable__label-arrow\">LGBMClassifier</label><div class=\"sk-toggleable__content\"><pre>LGBMClassifier()</pre></div></div></div></div></div></div></div></div></div></div>"
            ]
          },
          "metadata": {},
          "execution_count": 29
        }
      ]
    },
    {
      "cell_type": "code",
      "source": [
        "search.best_params_"
      ],
      "metadata": {
        "colab": {
          "base_uri": "https://localhost:8080/"
        },
        "id": "fTco2HidYiLB",
        "outputId": "884167e5-afcc-41d8-ae54-ef80e554175c"
      },
      "execution_count": null,
      "outputs": [
        {
          "output_type": "execute_result",
          "data": {
            "text/plain": [
              "OrderedDict([('learning_rate', 0.1),\n",
              "             ('max_bin', 278),\n",
              "             ('num_iterations', 300),\n",
              "             ('num_leaves', 46)])"
            ]
          },
          "metadata": {},
          "execution_count": 30
        }
      ]
    },
    {
      "cell_type": "code",
      "source": [
        "search.best_score_"
      ],
      "metadata": {
        "colab": {
          "base_uri": "https://localhost:8080/"
        },
        "id": "Rwi64AW0YjT3",
        "outputId": "94762d63-cc4a-4aa2-89f6-8c4e47514702"
      },
      "execution_count": null,
      "outputs": [
        {
          "output_type": "execute_result",
          "data": {
            "text/plain": [
              "0.9882602016865208"
            ]
          },
          "metadata": {},
          "execution_count": 31
        }
      ]
    },
    {
      "cell_type": "code",
      "source": [
        "# we also find the data for all models evaluated\n",
        "\n",
        "results = pd.DataFrame(search.cv_results_)\n",
        "\n",
        "print(results.shape)\n",
        "\n",
        "results.head(5)"
      ],
      "metadata": {
        "colab": {
          "base_uri": "https://localhost:8080/",
          "height": 461
        },
        "id": "SrtjQgQAaWLC",
        "outputId": "9af9e557-33c9-4f76-d8a6-c869fab85b8f"
      },
      "execution_count": null,
      "outputs": [
        {
          "output_type": "stream",
          "name": "stdout",
          "text": [
            "(30, 15)\n"
          ]
        },
        {
          "output_type": "execute_result",
          "data": {
            "text/plain": [
              "   mean_fit_time  std_fit_time  mean_score_time  std_score_time  \\\n",
              "0       2.850812      0.263066         0.486880        0.139831   \n",
              "1       5.034417      2.417247         0.718981        0.196630   \n",
              "2       0.772606      0.157110         0.228705        0.036521   \n",
              "3       0.888260      0.149642         0.253385        0.031197   \n",
              "4       1.173839      0.231249         0.407461        0.020534   \n",
              "\n",
              "  param_learning_rate param_max_bin param_num_iterations param_num_leaves  \\\n",
              "0            0.004947           223                  210               32   \n",
              "1             0.09915           208                  266               31   \n",
              "2            0.072118           227                  124               19   \n",
              "3            0.086225           253                  119               37   \n",
              "4            0.099835           242                  216               21   \n",
              "\n",
              "                                              params  split0_test_score  \\\n",
              "0  {'learning_rate': 0.004946861294959385, 'max_b...           0.975110   \n",
              "1  {'learning_rate': 0.09915001550434563, 'max_bi...           0.987682   \n",
              "2  {'learning_rate': 0.07211760378559341, 'max_bi...           0.985396   \n",
              "3  {'learning_rate': 0.08622453224482902, 'max_bi...           0.987343   \n",
              "4  {'learning_rate': 0.09983522124557993, 'max_bi...           0.988021   \n",
              "\n",
              "   split1_test_score  split2_test_score  mean_test_score  std_test_score  \\\n",
              "0           0.973839           0.977522         0.975490        0.001527   \n",
              "1           0.987597           0.988782         0.988020        0.000540   \n",
              "2           0.985353           0.986412         0.985720        0.000489   \n",
              "3           0.986539           0.988232         0.987371        0.000692   \n",
              "4           0.986750           0.988782         0.987851        0.000838   \n",
              "\n",
              "   rank_test_score  \n",
              "0               26  \n",
              "1                4  \n",
              "2               23  \n",
              "3               14  \n",
              "4                9  "
            ],
            "text/html": [
              "\n",
              "  <div id=\"df-aa7e3384-3e66-468e-b5c6-852f2de317b8\">\n",
              "    <div class=\"colab-df-container\">\n",
              "      <div>\n",
              "<style scoped>\n",
              "    .dataframe tbody tr th:only-of-type {\n",
              "        vertical-align: middle;\n",
              "    }\n",
              "\n",
              "    .dataframe tbody tr th {\n",
              "        vertical-align: top;\n",
              "    }\n",
              "\n",
              "    .dataframe thead th {\n",
              "        text-align: right;\n",
              "    }\n",
              "</style>\n",
              "<table border=\"1\" class=\"dataframe\">\n",
              "  <thead>\n",
              "    <tr style=\"text-align: right;\">\n",
              "      <th></th>\n",
              "      <th>mean_fit_time</th>\n",
              "      <th>std_fit_time</th>\n",
              "      <th>mean_score_time</th>\n",
              "      <th>std_score_time</th>\n",
              "      <th>param_learning_rate</th>\n",
              "      <th>param_max_bin</th>\n",
              "      <th>param_num_iterations</th>\n",
              "      <th>param_num_leaves</th>\n",
              "      <th>params</th>\n",
              "      <th>split0_test_score</th>\n",
              "      <th>split1_test_score</th>\n",
              "      <th>split2_test_score</th>\n",
              "      <th>mean_test_score</th>\n",
              "      <th>std_test_score</th>\n",
              "      <th>rank_test_score</th>\n",
              "    </tr>\n",
              "  </thead>\n",
              "  <tbody>\n",
              "    <tr>\n",
              "      <th>0</th>\n",
              "      <td>2.850812</td>\n",
              "      <td>0.263066</td>\n",
              "      <td>0.486880</td>\n",
              "      <td>0.139831</td>\n",
              "      <td>0.004947</td>\n",
              "      <td>223</td>\n",
              "      <td>210</td>\n",
              "      <td>32</td>\n",
              "      <td>{'learning_rate': 0.004946861294959385, 'max_b...</td>\n",
              "      <td>0.975110</td>\n",
              "      <td>0.973839</td>\n",
              "      <td>0.977522</td>\n",
              "      <td>0.975490</td>\n",
              "      <td>0.001527</td>\n",
              "      <td>26</td>\n",
              "    </tr>\n",
              "    <tr>\n",
              "      <th>1</th>\n",
              "      <td>5.034417</td>\n",
              "      <td>2.417247</td>\n",
              "      <td>0.718981</td>\n",
              "      <td>0.196630</td>\n",
              "      <td>0.09915</td>\n",
              "      <td>208</td>\n",
              "      <td>266</td>\n",
              "      <td>31</td>\n",
              "      <td>{'learning_rate': 0.09915001550434563, 'max_bi...</td>\n",
              "      <td>0.987682</td>\n",
              "      <td>0.987597</td>\n",
              "      <td>0.988782</td>\n",
              "      <td>0.988020</td>\n",
              "      <td>0.000540</td>\n",
              "      <td>4</td>\n",
              "    </tr>\n",
              "    <tr>\n",
              "      <th>2</th>\n",
              "      <td>0.772606</td>\n",
              "      <td>0.157110</td>\n",
              "      <td>0.228705</td>\n",
              "      <td>0.036521</td>\n",
              "      <td>0.072118</td>\n",
              "      <td>227</td>\n",
              "      <td>124</td>\n",
              "      <td>19</td>\n",
              "      <td>{'learning_rate': 0.07211760378559341, 'max_bi...</td>\n",
              "      <td>0.985396</td>\n",
              "      <td>0.985353</td>\n",
              "      <td>0.986412</td>\n",
              "      <td>0.985720</td>\n",
              "      <td>0.000489</td>\n",
              "      <td>23</td>\n",
              "    </tr>\n",
              "    <tr>\n",
              "      <th>3</th>\n",
              "      <td>0.888260</td>\n",
              "      <td>0.149642</td>\n",
              "      <td>0.253385</td>\n",
              "      <td>0.031197</td>\n",
              "      <td>0.086225</td>\n",
              "      <td>253</td>\n",
              "      <td>119</td>\n",
              "      <td>37</td>\n",
              "      <td>{'learning_rate': 0.08622453224482902, 'max_bi...</td>\n",
              "      <td>0.987343</td>\n",
              "      <td>0.986539</td>\n",
              "      <td>0.988232</td>\n",
              "      <td>0.987371</td>\n",
              "      <td>0.000692</td>\n",
              "      <td>14</td>\n",
              "    </tr>\n",
              "    <tr>\n",
              "      <th>4</th>\n",
              "      <td>1.173839</td>\n",
              "      <td>0.231249</td>\n",
              "      <td>0.407461</td>\n",
              "      <td>0.020534</td>\n",
              "      <td>0.099835</td>\n",
              "      <td>242</td>\n",
              "      <td>216</td>\n",
              "      <td>21</td>\n",
              "      <td>{'learning_rate': 0.09983522124557993, 'max_bi...</td>\n",
              "      <td>0.988021</td>\n",
              "      <td>0.986750</td>\n",
              "      <td>0.988782</td>\n",
              "      <td>0.987851</td>\n",
              "      <td>0.000838</td>\n",
              "      <td>9</td>\n",
              "    </tr>\n",
              "  </tbody>\n",
              "</table>\n",
              "</div>\n",
              "      <button class=\"colab-df-convert\" onclick=\"convertToInteractive('df-aa7e3384-3e66-468e-b5c6-852f2de317b8')\"\n",
              "              title=\"Convert this dataframe to an interactive table.\"\n",
              "              style=\"display:none;\">\n",
              "        \n",
              "  <svg xmlns=\"http://www.w3.org/2000/svg\" height=\"24px\"viewBox=\"0 0 24 24\"\n",
              "       width=\"24px\">\n",
              "    <path d=\"M0 0h24v24H0V0z\" fill=\"none\"/>\n",
              "    <path d=\"M18.56 5.44l.94 2.06.94-2.06 2.06-.94-2.06-.94-.94-2.06-.94 2.06-2.06.94zm-11 1L8.5 8.5l.94-2.06 2.06-.94-2.06-.94L8.5 2.5l-.94 2.06-2.06.94zm10 10l.94 2.06.94-2.06 2.06-.94-2.06-.94-.94-2.06-.94 2.06-2.06.94z\"/><path d=\"M17.41 7.96l-1.37-1.37c-.4-.4-.92-.59-1.43-.59-.52 0-1.04.2-1.43.59L10.3 9.45l-7.72 7.72c-.78.78-.78 2.05 0 2.83L4 21.41c.39.39.9.59 1.41.59.51 0 1.02-.2 1.41-.59l7.78-7.78 2.81-2.81c.8-.78.8-2.07 0-2.86zM5.41 20L4 18.59l7.72-7.72 1.47 1.35L5.41 20z\"/>\n",
              "  </svg>\n",
              "      </button>\n",
              "      \n",
              "  <style>\n",
              "    .colab-df-container {\n",
              "      display:flex;\n",
              "      flex-wrap:wrap;\n",
              "      gap: 12px;\n",
              "    }\n",
              "\n",
              "    .colab-df-convert {\n",
              "      background-color: #E8F0FE;\n",
              "      border: none;\n",
              "      border-radius: 50%;\n",
              "      cursor: pointer;\n",
              "      display: none;\n",
              "      fill: #1967D2;\n",
              "      height: 32px;\n",
              "      padding: 0 0 0 0;\n",
              "      width: 32px;\n",
              "    }\n",
              "\n",
              "    .colab-df-convert:hover {\n",
              "      background-color: #E2EBFA;\n",
              "      box-shadow: 0px 1px 2px rgba(60, 64, 67, 0.3), 0px 1px 3px 1px rgba(60, 64, 67, 0.15);\n",
              "      fill: #174EA6;\n",
              "    }\n",
              "\n",
              "    [theme=dark] .colab-df-convert {\n",
              "      background-color: #3B4455;\n",
              "      fill: #D2E3FC;\n",
              "    }\n",
              "\n",
              "    [theme=dark] .colab-df-convert:hover {\n",
              "      background-color: #434B5C;\n",
              "      box-shadow: 0px 1px 3px 1px rgba(0, 0, 0, 0.15);\n",
              "      filter: drop-shadow(0px 1px 2px rgba(0, 0, 0, 0.3));\n",
              "      fill: #FFFFFF;\n",
              "    }\n",
              "  </style>\n",
              "\n",
              "      <script>\n",
              "        const buttonEl =\n",
              "          document.querySelector('#df-aa7e3384-3e66-468e-b5c6-852f2de317b8 button.colab-df-convert');\n",
              "        buttonEl.style.display =\n",
              "          google.colab.kernel.accessAllowed ? 'block' : 'none';\n",
              "\n",
              "        async function convertToInteractive(key) {\n",
              "          const element = document.querySelector('#df-aa7e3384-3e66-468e-b5c6-852f2de317b8');\n",
              "          const dataTable =\n",
              "            await google.colab.kernel.invokeFunction('convertToInteractive',\n",
              "                                                     [key], {});\n",
              "          if (!dataTable) return;\n",
              "\n",
              "          const docLinkHtml = 'Like what you see? Visit the ' +\n",
              "            '<a target=\"_blank\" href=https://colab.research.google.com/notebooks/data_table.ipynb>data table notebook</a>'\n",
              "            + ' to learn more about interactive tables.';\n",
              "          element.innerHTML = '';\n",
              "          dataTable['output_type'] = 'display_data';\n",
              "          await google.colab.output.renderOutput(dataTable, element);\n",
              "          const docLink = document.createElement('div');\n",
              "          docLink.innerHTML = docLinkHtml;\n",
              "          element.appendChild(docLink);\n",
              "        }\n",
              "      </script>\n",
              "    </div>\n",
              "  </div>\n",
              "  "
            ]
          },
          "metadata": {},
          "execution_count": 32
        }
      ]
    },
    {
      "cell_type": "code",
      "source": [
        "# we can order the different models based on their performance\n",
        "results.sort_values(by='mean_test_score', ascending=False, inplace=True)\n",
        "\n",
        "results.reset_index(drop=True, inplace=True)\n",
        "\n",
        "# plot model performance and error\n",
        "\n",
        "results['mean_test_score'].plot(yerr=[results['std_test_score'], results['std_test_score']], subplots=True)\n",
        "\n",
        "plt.ylabel('Mean test score')\n",
        "plt.xlabel('Hyperparameter combinations')"
      ],
      "metadata": {
        "colab": {
          "base_uri": "https://localhost:8080/",
          "height": 466
        },
        "id": "xjPNGK-4adkb",
        "outputId": "72967f82-8930-4682-d68e-0217a90819a8"
      },
      "execution_count": null,
      "outputs": [
        {
          "output_type": "execute_result",
          "data": {
            "text/plain": [
              "Text(0.5, 0, 'Hyperparameter combinations')"
            ]
          },
          "metadata": {},
          "execution_count": 33
        },
        {
          "output_type": "display_data",
          "data": {
            "text/plain": [
              "<Figure size 640x480 with 1 Axes>"
            ],
            "image/png": "[encoded data removed]"
          },
          "metadata": {}
        }
      ]
    },
    {
      "cell_type": "code",
      "source": [
        "# predict the results\n",
        "y_pred=search.predict(X_test)"
      ],
      "metadata": {
        "id": "lPILmAm5a-rW"
      },
      "execution_count": null,
      "outputs": []
    },
    {
      "cell_type": "code",
      "source": [
        "print(accuracy_score(y_test, y_pred))\n",
        "print(precision_score(y_test, y_pred))\n",
        "print(recall_score(y_test, y_pred))\n",
        "print(f1_score(y_test, y_pred))"
      ],
      "metadata": {
        "outputId": "6640873c-a75c-470f-87a6-e777c71c61e9",
        "colab": {
          "base_uri": "https://localhost:8080/"
        },
        "id": "wTVtZoRUa-rY"
      },
      "execution_count": null,
      "outputs": [
        {
          "output_type": "stream",
          "name": "stdout",
          "text": [
            "0.9902923580539564\n",
            "0.9927511609468797\n",
            "0.9878282429843345\n",
            "0.9902835837758446\n"
          ]
        }
      ]
    },
    {
      "cell_type": "markdown",
      "source": [
        "![imagen.png](data:image/png;base64,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)"
      ],
      "metadata": {
        "id": "RT1o0Wziw04s"
      }
    },
    {
      "cell_type": "markdown",
      "source": [],
      "metadata": {
        "id": "Od0U_BCpI7BO"
      }
    },
    {
      "cell_type": "markdown",
      "source": [
        "## K-Neighbors"
      ],
      "metadata": {
        "id": "3n9oCJN2BWFf"
      }
    },
    {
      "cell_type": "markdown",
      "source": [
        "Los hiperparámetros para el clasificador de K-Neighbors enlista sus hiper parámetros en la [documentación](https://scikit-learn.org/stable/modules/generated/sklearn.neighbors.KNeighborsClassifier.html)"
      ],
      "metadata": {
        "id": "Y-oEtSHKM6eB"
      }
    },
    {
      "cell_type": "code",
      "source": [
        "# hyperparameter space, we will set the hyperparameters to avoid better accuracy\n",
        "\n",
        "param_grid_knn = {\n",
        "    'n_neighbors': (4, 20), # default = 5\n",
        "    'weights': ['uniform', 'distance'], # default = 'uniform'\n",
        "    'leaf_size': (10, 40), # default = 30\n",
        "}"
      ],
      "metadata": {
        "id": "XgouBh7cLOYB"
      },
      "execution_count": null,
      "outputs": []
    },
    {
      "cell_type": "code",
      "source": [
        "knn = KNeighborsClassifier(n_jobs=-1)"
      ],
      "metadata": {
        "id": "Lr37ynIJvltG"
      },
      "execution_count": null,
      "outputs": []
    },
    {
      "cell_type": "code",
      "source": [
        "clf_2 =  cross_validate(\n",
        "    knn,\n",
        "    X_train, \n",
        "    y_train,\n",
        "    scoring='recall',\n",
        "    return_train_score=True,\n",
        "    cv=skf,\n",
        ")"
      ],
      "metadata": {
        "id": "W1DpoZ8C2slE"
      },
      "execution_count": null,
      "outputs": []
    },
    {
      "cell_type": "code",
      "source": [
        "print(clf_2['train_score'].mean())\n",
        "print(clf_2['test_score'].mean())"
      ],
      "metadata": {
        "colab": {
          "base_uri": "https://localhost:8080/"
        },
        "id": "rqjWe5Mu3J8-",
        "outputId": "88cfca84-3b8a-49cd-c256-999564ebb6f9"
      },
      "execution_count": null,
      "outputs": [
        {
          "output_type": "stream",
          "name": "stdout",
          "text": [
            "0.9777226795993622\n",
            "0.9705287027887245\n"
          ]
        }
      ]
    },
    {
      "cell_type": "code",
      "source": [
        "plt.plot(range(10), clf_2['test_score'], label='Test')\n",
        "plt.plot(range(10), clf_2['train_score'], label='Train')\n",
        "plt.legend(title='Train vs Test:')\n",
        "plt.show()"
      ],
      "metadata": {
        "colab": {
          "base_uri": "https://localhost:8080/",
          "height": 430
        },
        "id": "bcosjmg237lv",
        "outputId": "6fdbb0dd-28f6-43fe-8593-9339b8234747"
      },
      "execution_count": null,
      "outputs": [
        {
          "output_type": "display_data",
          "data": {
            "text/plain": [
              "<Figure size 640x480 with 1 Axes>"
            ],
            "image/png": "[encoded data removed]"
          },
          "metadata": {}
        }
      ]
    },
    {
      "cell_type": "code",
      "source": [
        "knn.fit(X_train, y_train)"
      ],
      "metadata": {
        "colab": {
          "base_uri": "https://localhost:8080/",
          "height": 74
        },
        "id": "8qMP8UnZ5nGC",
        "outputId": "7c0d6f36-2604-41fc-d8bf-c45a036ebba6"
      },
      "execution_count": null,
      "outputs": [
        {
          "output_type": "execute_result",
          "data": {
            "text/plain": [
              "KNeighborsClassifier(n_jobs=-1)"
            ],
            "text/html": [
              "<style>#sk-container-id-3 {color: black;background-color: white;}#sk-container-id-3 pre{padding: 0;}#sk-container-id-3 div.sk-toggleable {background-color: white;}#sk-container-id-3 label.sk-toggleable__label {cursor: pointer;display: block;width: 100%;margin-bottom: 0;padding: 0.3em;box-sizing: border-box;text-align: center;}#sk-container-id-3 label.sk-toggleable__label-arrow:before {content: \"▸\";float: left;margin-right: 0.25em;color: #696969;}#sk-container-id-3 label.sk-toggleable__label-arrow:hover:before {color: black;}#sk-container-id-3 div.sk-estimator:hover label.sk-toggleable__label-arrow:before {color: black;}#sk-container-id-3 div.sk-toggleable__content {max-height: 0;max-width: 0;overflow: hidden;text-align: left;background-color: #f0f8ff;}#sk-container-id-3 div.sk-toggleable__content pre {margin: 0.2em;color: black;border-radius: 0.25em;background-color: #f0f8ff;}#sk-container-id-3 input.sk-toggleable__control:checked~div.sk-toggleable__content {max-height: 200px;max-width: 100%;overflow: auto;}#sk-container-id-3 input.sk-toggleable__control:checked~label.sk-toggleable__label-arrow:before {content: \"▾\";}#sk-container-id-3 div.sk-estimator input.sk-toggleable__control:checked~label.sk-toggleable__label {background-color: #d4ebff;}#sk-container-id-3 div.sk-label input.sk-toggleable__control:checked~label.sk-toggleable__label {background-color: #d4ebff;}#sk-container-id-3 input.sk-hidden--visually {border: 0;clip: rect(1px 1px 1px 1px);clip: rect(1px, 1px, 1px, 1px);height: 1px;margin: -1px;overflow: hidden;padding: 0;position: absolute;width: 1px;}#sk-container-id-3 div.sk-estimator {font-family: monospace;background-color: #f0f8ff;border: 1px dotted black;border-radius: 0.25em;box-sizing: border-box;margin-bottom: 0.5em;}#sk-container-id-3 div.sk-estimator:hover {background-color: #d4ebff;}#sk-container-id-3 div.sk-parallel-item::after {content: \"\";width: 100%;border-bottom: 1px solid gray;flex-grow: 1;}#sk-container-id-3 div.sk-label:hover label.sk-toggleable__label {background-color: #d4ebff;}#sk-container-id-3 div.sk-serial::before {content: \"\";position: absolute;border-left: 1px solid gray;box-sizing: border-box;top: 0;bottom: 0;left: 50%;z-index: 0;}#sk-container-id-3 div.sk-serial {display: flex;flex-direction: column;align-items: center;background-color: white;padding-right: 0.2em;padding-left: 0.2em;position: relative;}#sk-container-id-3 div.sk-item {position: relative;z-index: 1;}#sk-container-id-3 div.sk-parallel {display: flex;align-items: stretch;justify-content: center;background-color: white;position: relative;}#sk-container-id-3 div.sk-item::before, #sk-container-id-3 div.sk-parallel-item::before {content: \"\";position: absolute;border-left: 1px solid gray;box-sizing: border-box;top: 0;bottom: 0;left: 50%;z-index: -1;}#sk-container-id-3 div.sk-parallel-item {display: flex;flex-direction: column;z-index: 1;position: relative;background-color: white;}#sk-container-id-3 div.sk-parallel-item:first-child::after {align-self: flex-end;width: 50%;}#sk-container-id-3 div.sk-parallel-item:last-child::after {align-self: flex-start;width: 50%;}#sk-container-id-3 div.sk-parallel-item:only-child::after {width: 0;}#sk-container-id-3 div.sk-dashed-wrapped {border: 1px dashed gray;margin: 0 0.4em 0.5em 0.4em;box-sizing: border-box;padding-bottom: 0.4em;background-color: white;}#sk-container-id-3 div.sk-label label {font-family: monospace;font-weight: bold;display: inline-block;line-height: 1.2em;}#sk-container-id-3 div.sk-label-container {text-align: center;}#sk-container-id-3 div.sk-container {/* jupyter's `normalize.less` sets `[hidden] { display: none; }` but bootstrap.min.css set `[hidden] { display: none !important; }` so we also need the `!important` here to be able to override the default hidden behavior on the sphinx rendered scikit-learn.org. See: https://github.com/scikit-learn/scikit-learn/issues/21755 */display: inline-block !important;position: relative;}#sk-container-id-3 div.sk-text-repr-fallback {display: none;}</style><div id=\"sk-container-id-3\" class=\"sk-top-container\"><div class=\"sk-text-repr-fallback\"><pre>KNeighborsClassifier(n_jobs=-1)</pre><b>In a Jupyter environment, please rerun this cell to show the HTML representation or trust the notebook. <br />On GitHub, the HTML representation is unable to render, please try loading this page with nbviewer.org.</b></div><div class=\"sk-container\" hidden><div class=\"sk-item\"><div class=\"sk-estimator sk-toggleable\"><input class=\"sk-toggleable__control sk-hidden--visually\" id=\"sk-estimator-id-5\" type=\"checkbox\" checked><label for=\"sk-estimator-id-5\" class=\"sk-toggleable__label sk-toggleable__label-arrow\">KNeighborsClassifier</label><div class=\"sk-toggleable__content\"><pre>KNeighborsClassifier(n_jobs=-1)</pre></div></div></div></div></div>"
            ]
          },
          "metadata": {},
          "execution_count": 41
        }
      ]
    },
    {
      "cell_type": "code",
      "source": [
        "y_pred=lgbmc.predict(X_test)"
      ],
      "metadata": {
        "id": "xWXMtLLD5qZX"
      },
      "execution_count": null,
      "outputs": []
    },
    {
      "cell_type": "code",
      "source": [
        "print(accuracy_score(y_test, y_pred))\n",
        "print(precision_score(y_test, y_pred))\n",
        "print(recall_score(y_test, y_pred))\n",
        "print(f1_score(y_test, y_pred))"
      ],
      "metadata": {
        "colab": {
          "base_uri": "https://localhost:8080/"
        },
        "id": "CrH6s6C05vBB",
        "outputId": "beaf4ac7-d46c-4798-c292-59c8cf3392a6"
      },
      "execution_count": null,
      "outputs": [
        {
          "output_type": "stream",
          "name": "stdout",
          "text": [
            "0.9892764420363472\n",
            "0.9917317929550346\n",
            "0.9868139298996957\n",
            "0.9892667495198283\n"
          ]
        }
      ]
    },
    {
      "cell_type": "code",
      "source": [],
      "metadata": {
        "id": "lAp4DHEtb3rt"
      },
      "execution_count": null,
      "outputs": []
    },
    {
      "cell_type": "markdown",
      "source": [
        "Ahora optimizando con hiperparámetros"
      ],
      "metadata": {
        "id": "5ohZTocrb4kj"
      }
    },
    {
      "cell_type": "code",
      "source": [
        "# set up the search\n",
        "search_knn = BayesSearchCV(estimator=knn,\n",
        "                       search_spaces=param_grid_knn,\n",
        "                       scoring='roc_auc',\n",
        "                       cv=3,\n",
        "                       n_iter=30,\n",
        "                       random_state=10,\n",
        "                       n_jobs=-1,\n",
        "                       refit=True)"
      ],
      "metadata": {
        "id": "oSgiQavPb4kk"
      },
      "execution_count": null,
      "outputs": []
    },
    {
      "cell_type": "code",
      "source": [
        "search_knn.fit(X_train, y_train)"
      ],
      "metadata": {
        "colab": {
          "base_uri": "https://localhost:8080/",
          "height": 117
        },
        "outputId": "8eb68028-3d8c-4d11-b1e9-2a1e2ba0bc3a",
        "id": "V8_qUUhZb4kl"
      },
      "execution_count": null,
      "outputs": [
        {
          "output_type": "execute_result",
          "data": {
            "text/plain": [
              "BayesSearchCV(cv=3, estimator=KNeighborsClassifier(n_jobs=-1), n_iter=30,\n",
              "              n_jobs=-1, random_state=10, scoring='roc_auc',\n",
              "              search_spaces={'leaf_size': (10, 40), 'n_neighbors': (4, 20),\n",
              "                             'weights': ['uniform', 'distance']})"
            ],
            "text/html": [
              "<style>#sk-container-id-4 {color: black;background-color: white;}#sk-container-id-4 pre{padding: 0;}#sk-container-id-4 div.sk-toggleable {background-color: white;}#sk-container-id-4 label.sk-toggleable__label {cursor: pointer;display: block;width: 100%;margin-bottom: 0;padding: 0.3em;box-sizing: border-box;text-align: center;}#sk-container-id-4 label.sk-toggleable__label-arrow:before {content: \"▸\";float: left;margin-right: 0.25em;color: #696969;}#sk-container-id-4 label.sk-toggleable__label-arrow:hover:before {color: black;}#sk-container-id-4 div.sk-estimator:hover label.sk-toggleable__label-arrow:before {color: black;}#sk-container-id-4 div.sk-toggleable__content {max-height: 0;max-width: 0;overflow: hidden;text-align: left;background-color: #f0f8ff;}#sk-container-id-4 div.sk-toggleable__content pre {margin: 0.2em;color: black;border-radius: 0.25em;background-color: #f0f8ff;}#sk-container-id-4 input.sk-toggleable__control:checked~div.sk-toggleable__content {max-height: 200px;max-width: 100%;overflow: auto;}#sk-container-id-4 input.sk-toggleable__control:checked~label.sk-toggleable__label-arrow:before {content: \"▾\";}#sk-container-id-4 div.sk-estimator input.sk-toggleable__control:checked~label.sk-toggleable__label {background-color: #d4ebff;}#sk-container-id-4 div.sk-label input.sk-toggleable__control:checked~label.sk-toggleable__label {background-color: #d4ebff;}#sk-container-id-4 input.sk-hidden--visually {border: 0;clip: rect(1px 1px 1px 1px);clip: rect(1px, 1px, 1px, 1px);height: 1px;margin: -1px;overflow: hidden;padding: 0;position: absolute;width: 1px;}#sk-container-id-4 div.sk-estimator {font-family: monospace;background-color: #f0f8ff;border: 1px dotted black;border-radius: 0.25em;box-sizing: border-box;margin-bottom: 0.5em;}#sk-container-id-4 div.sk-estimator:hover {background-color: #d4ebff;}#sk-container-id-4 div.sk-parallel-item::after {content: \"\";width: 100%;border-bottom: 1px solid gray;flex-grow: 1;}#sk-container-id-4 div.sk-label:hover label.sk-toggleable__label {background-color: #d4ebff;}#sk-container-id-4 div.sk-serial::before {content: \"\";position: absolute;border-left: 1px solid gray;box-sizing: border-box;top: 0;bottom: 0;left: 50%;z-index: 0;}#sk-container-id-4 div.sk-serial {display: flex;flex-direction: column;align-items: center;background-color: white;padding-right: 0.2em;padding-left: 0.2em;position: relative;}#sk-container-id-4 div.sk-item {position: relative;z-index: 1;}#sk-container-id-4 div.sk-parallel {display: flex;align-items: stretch;justify-content: center;background-color: white;position: relative;}#sk-container-id-4 div.sk-item::before, #sk-container-id-4 div.sk-parallel-item::before {content: \"\";position: absolute;border-left: 1px solid gray;box-sizing: border-box;top: 0;bottom: 0;left: 50%;z-index: -1;}#sk-container-id-4 div.sk-parallel-item {display: flex;flex-direction: column;z-index: 1;position: relative;background-color: white;}#sk-container-id-4 div.sk-parallel-item:first-child::after {align-self: flex-end;width: 50%;}#sk-container-id-4 div.sk-parallel-item:last-child::after {align-self: flex-start;width: 50%;}#sk-container-id-4 div.sk-parallel-item:only-child::after {width: 0;}#sk-container-id-4 div.sk-dashed-wrapped {border: 1px dashed gray;margin: 0 0.4em 0.5em 0.4em;box-sizing: border-box;padding-bottom: 0.4em;background-color: white;}#sk-container-id-4 div.sk-label label {font-family: monospace;font-weight: bold;display: inline-block;line-height: 1.2em;}#sk-container-id-4 div.sk-label-container {text-align: center;}#sk-container-id-4 div.sk-container {/* jupyter's `normalize.less` sets `[hidden] { display: none; }` but bootstrap.min.css set `[hidden] { display: none !important; }` so we also need the `!important` here to be able to override the default hidden behavior on the sphinx rendered scikit-learn.org. See: https://github.com/scikit-learn/scikit-learn/issues/21755 */display: inline-block !important;position: relative;}#sk-container-id-4 div.sk-text-repr-fallback {display: none;}</style><div id=\"sk-container-id-4\" class=\"sk-top-container\"><div class=\"sk-text-repr-fallback\"><pre>BayesSearchCV(cv=3, estimator=KNeighborsClassifier(n_jobs=-1), n_iter=30,\n",
              "              n_jobs=-1, random_state=10, scoring=&#x27;roc_auc&#x27;,\n",
              "              search_spaces={&#x27;leaf_size&#x27;: (10, 40), &#x27;n_neighbors&#x27;: (4, 20),\n",
              "                             &#x27;weights&#x27;: [&#x27;uniform&#x27;, &#x27;distance&#x27;]})</pre><b>In a Jupyter environment, please rerun this cell to show the HTML representation or trust the notebook. <br />On GitHub, the HTML representation is unable to render, please try loading this page with nbviewer.org.</b></div><div class=\"sk-container\" hidden><div class=\"sk-item sk-dashed-wrapped\"><div class=\"sk-label-container\"><div class=\"sk-label sk-toggleable\"><input class=\"sk-toggleable__control sk-hidden--visually\" id=\"sk-estimator-id-6\" type=\"checkbox\" ><label for=\"sk-estimator-id-6\" class=\"sk-toggleable__label sk-toggleable__label-arrow\">BayesSearchCV</label><div class=\"sk-toggleable__content\"><pre>BayesSearchCV(cv=3, estimator=KNeighborsClassifier(n_jobs=-1), n_iter=30,\n",
              "              n_jobs=-1, random_state=10, scoring=&#x27;roc_auc&#x27;,\n",
              "              search_spaces={&#x27;leaf_size&#x27;: (10, 40), &#x27;n_neighbors&#x27;: (4, 20),\n",
              "                             &#x27;weights&#x27;: [&#x27;uniform&#x27;, &#x27;distance&#x27;]})</pre></div></div></div><div class=\"sk-parallel\"><div class=\"sk-parallel-item\"><div class=\"sk-item\"><div class=\"sk-label-container\"><div class=\"sk-label sk-toggleable\"><input class=\"sk-toggleable__control sk-hidden--visually\" id=\"sk-estimator-id-7\" type=\"checkbox\" ><label for=\"sk-estimator-id-7\" class=\"sk-toggleable__label sk-toggleable__label-arrow\">estimator: KNeighborsClassifier</label><div class=\"sk-toggleable__content\"><pre>KNeighborsClassifier(n_jobs=-1)</pre></div></div></div><div class=\"sk-serial\"><div class=\"sk-item\"><div class=\"sk-estimator sk-toggleable\"><input class=\"sk-toggleable__control sk-hidden--visually\" id=\"sk-estimator-id-8\" type=\"checkbox\" ><label for=\"sk-estimator-id-8\" class=\"sk-toggleable__label sk-toggleable__label-arrow\">KNeighborsClassifier</label><div class=\"sk-toggleable__content\"><pre>KNeighborsClassifier(n_jobs=-1)</pre></div></div></div></div></div></div></div></div></div></div>"
            ]
          },
          "metadata": {},
          "execution_count": 45
        }
      ]
    },
    {
      "cell_type": "code",
      "source": [
        "search_knn.best_params_"
      ],
      "metadata": {
        "colab": {
          "base_uri": "https://localhost:8080/"
        },
        "outputId": "48414e63-19f5-4190-a595-c953ac53a1e6",
        "id": "9QpSegMSb4kn"
      },
      "execution_count": null,
      "outputs": [
        {
          "output_type": "execute_result",
          "data": {
            "text/plain": [
              "OrderedDict([('leaf_size', 25), ('n_neighbors', 20), ('weights', 'distance')])"
            ]
          },
          "metadata": {},
          "execution_count": 46
        }
      ]
    },
    {
      "cell_type": "code",
      "source": [
        "search_knn.best_score_"
      ],
      "metadata": {
        "colab": {
          "base_uri": "https://localhost:8080/"
        },
        "outputId": "91ce15c0-d64f-4d82-86bb-a4e3be5c2d91",
        "id": "QX9a9Bv4b4ko"
      },
      "execution_count": null,
      "outputs": [
        {
          "output_type": "execute_result",
          "data": {
            "text/plain": [
              "0.9963484024150677"
            ]
          },
          "metadata": {},
          "execution_count": 47
        }
      ]
    },
    {
      "cell_type": "code",
      "source": [
        "# we also find the data for all models evaluated\n",
        "\n",
        "results_knn = pd.DataFrame(search_knn.cv_results_)\n",
        "\n",
        "print(results_knn.shape)\n",
        "\n",
        "results_knn.head(5)"
      ],
      "metadata": {
        "colab": {
          "base_uri": "https://localhost:8080/",
          "height": 583
        },
        "outputId": "05b0d55e-24a1-4914-8f0d-9cda19c20fbc",
        "id": "Tb8vjtwFb4kp"
      },
      "execution_count": null,
      "outputs": [
        {
          "output_type": "stream",
          "name": "stdout",
          "text": [
            "(30, 14)\n"
          ]
        },
        {
          "output_type": "execute_result",
          "data": {
            "text/plain": [
              "   mean_fit_time  std_fit_time  mean_score_time  std_score_time  \\\n",
              "0       0.180275      0.027525         2.236715        0.571886   \n",
              "1       0.156931      0.072006         0.819592        0.268914   \n",
              "2       0.086566      0.018137         0.938798        0.285555   \n",
              "3       0.092075      0.002619         1.116293        0.354978   \n",
              "4       0.083232      0.008619         0.969888        0.285647   \n",
              "\n",
              "  param_leaf_size param_n_neighbors param_weights  \\\n",
              "0              11                 8       uniform   \n",
              "1              40                 5       uniform   \n",
              "2              32                 8      distance   \n",
              "3              36                12      distance   \n",
              "4              40                11       uniform   \n",
              "\n",
              "                                              params  split0_test_score  \\\n",
              "0  {'leaf_size': 11, 'n_neighbors': 8, 'weights':...           0.994866   \n",
              "1  {'leaf_size': 40, 'n_neighbors': 5, 'weights':...           0.993423   \n",
              "2  {'leaf_size': 32, 'n_neighbors': 8, 'weights':...           0.994925   \n",
              "3  {'leaf_size': 36, 'n_neighbors': 12, 'weights'...           0.995788   \n",
              "4  {'leaf_size': 40, 'n_neighbors': 11, 'weights'...           0.995544   \n",
              "\n",
              "   split1_test_score  split2_test_score  mean_test_score  std_test_score  \\\n",
              "0           0.994324           0.995183         0.994791        0.000355   \n",
              "1           0.992892           0.993793         0.993370        0.000370   \n",
              "2           0.994418           0.995253         0.994865        0.000343   \n",
              "3           0.995212           0.996017         0.995673        0.000339   \n",
              "4           0.994962           0.995665         0.995390        0.000307   \n",
              "\n",
              "   rank_test_score  \n",
              "0               26  \n",
              "1               29  \n",
              "2               23  \n",
              "3               16  \n",
              "4               18  "
            ],
            "text/html": [
              "\n",
              "  <div id=\"df-a36a41f9-f1e3-4a8d-9dfd-e66011b3a0ee\">\n",
              "    <div class=\"colab-df-container\">\n",
              "      <div>\n",
              "<style scoped>\n",
              "    .dataframe tbody tr th:only-of-type {\n",
              "        vertical-align: middle;\n",
              "    }\n",
              "\n",
              "    .dataframe tbody tr th {\n",
              "        vertical-align: top;\n",
              "    }\n",
              "\n",
              "    .dataframe thead th {\n",
              "        text-align: right;\n",
              "    }\n",
              "</style>\n",
              "<table border=\"1\" class=\"dataframe\">\n",
              "  <thead>\n",
              "    <tr style=\"text-align: right;\">\n",
              "      <th></th>\n",
              "      <th>mean_fit_time</th>\n",
              "      <th>std_fit_time</th>\n",
              "      <th>mean_score_time</th>\n",
              "      <th>std_score_time</th>\n",
              "      <th>param_leaf_size</th>\n",
              "      <th>param_n_neighbors</th>\n",
              "      <th>param_weights</th>\n",
              "      <th>params</th>\n",
              "      <th>split0_test_score</th>\n",
              "      <th>split1_test_score</th>\n",
              "      <th>split2_test_score</th>\n",
              "      <th>mean_test_score</th>\n",
              "      <th>std_test_score</th>\n",
              "      <th>rank_test_score</th>\n",
              "    </tr>\n",
              "  </thead>\n",
              "  <tbody>\n",
              "    <tr>\n",
              "      <th>0</th>\n",
              "      <td>0.180275</td>\n",
              "      <td>0.027525</td>\n",
              "      <td>2.236715</td>\n",
              "      <td>0.571886</td>\n",
              "      <td>11</td>\n",
              "      <td>8</td>\n",
              "      <td>uniform</td>\n",
              "      <td>{'leaf_size': 11, 'n_neighbors': 8, 'weights':...</td>\n",
              "      <td>0.994866</td>\n",
              "      <td>0.994324</td>\n",
              "      <td>0.995183</td>\n",
              "      <td>0.994791</td>\n",
              "      <td>0.000355</td>\n",
              "      <td>26</td>\n",
              "    </tr>\n",
              "    <tr>\n",
              "      <th>1</th>\n",
              "      <td>0.156931</td>\n",
              "      <td>0.072006</td>\n",
              "      <td>0.819592</td>\n",
              "      <td>0.268914</td>\n",
              "      <td>40</td>\n",
              "      <td>5</td>\n",
              "      <td>uniform</td>\n",
              "      <td>{'leaf_size': 40, 'n_neighbors': 5, 'weights':...</td>\n",
              "      <td>0.993423</td>\n",
              "      <td>0.992892</td>\n",
              "      <td>0.993793</td>\n",
              "      <td>0.993370</td>\n",
              "      <td>0.000370</td>\n",
              "      <td>29</td>\n",
              "    </tr>\n",
              "    <tr>\n",
              "      <th>2</th>\n",
              "      <td>0.086566</td>\n",
              "      <td>0.018137</td>\n",
              "      <td>0.938798</td>\n",
              "      <td>0.285555</td>\n",
              "      <td>32</td>\n",
              "      <td>8</td>\n",
              "      <td>distance</td>\n",
              "      <td>{'leaf_size': 32, 'n_neighbors': 8, 'weights':...</td>\n",
              "      <td>0.994925</td>\n",
              "      <td>0.994418</td>\n",
              "      <td>0.995253</td>\n",
              "      <td>0.994865</td>\n",
              "      <td>0.000343</td>\n",
              "      <td>23</td>\n",
              "    </tr>\n",
              "    <tr>\n",
              "      <th>3</th>\n",
              "      <td>0.092075</td>\n",
              "      <td>0.002619</td>\n",
              "      <td>1.116293</td>\n",
              "      <td>0.354978</td>\n",
              "      <td>36</td>\n",
              "      <td>12</td>\n",
              "      <td>distance</td>\n",
              "      <td>{'leaf_size': 36, 'n_neighbors': 12, 'weights'...</td>\n",
              "      <td>0.995788</td>\n",
              "      <td>0.995212</td>\n",
              "      <td>0.996017</td>\n",
              "      <td>0.995673</td>\n",
              "      <td>0.000339</td>\n",
              "      <td>16</td>\n",
              "    </tr>\n",
              "    <tr>\n",
              "      <th>4</th>\n",
              "      <td>0.083232</td>\n",
              "      <td>0.008619</td>\n",
              "      <td>0.969888</td>\n",
              "      <td>0.285647</td>\n",
              "      <td>40</td>\n",
              "      <td>11</td>\n",
              "      <td>uniform</td>\n",
              "      <td>{'leaf_size': 40, 'n_neighbors': 11, 'weights'...</td>\n",
              "      <td>0.995544</td>\n",
              "      <td>0.994962</td>\n",
              "      <td>0.995665</td>\n",
              "      <td>0.995390</td>\n",
              "      <td>0.000307</td>\n",
              "      <td>18</td>\n",
              "    </tr>\n",
              "  </tbody>\n",
              "</table>\n",
              "</div>\n",
              "      <button class=\"colab-df-convert\" onclick=\"convertToInteractive('df-a36a41f9-f1e3-4a8d-9dfd-e66011b3a0ee')\"\n",
              "              title=\"Convert this dataframe to an interactive table.\"\n",
              "              style=\"display:none;\">\n",
              "        \n",
              "  <svg xmlns=\"http://www.w3.org/2000/svg\" height=\"24px\"viewBox=\"0 0 24 24\"\n",
              "       width=\"24px\">\n",
              "    <path d=\"M0 0h24v24H0V0z\" fill=\"none\"/>\n",
              "    <path d=\"M18.56 5.44l.94 2.06.94-2.06 2.06-.94-2.06-.94-.94-2.06-.94 2.06-2.06.94zm-11 1L8.5 8.5l.94-2.06 2.06-.94-2.06-.94L8.5 2.5l-.94 2.06-2.06.94zm10 10l.94 2.06.94-2.06 2.06-.94-2.06-.94-.94-2.06-.94 2.06-2.06.94z\"/><path d=\"M17.41 7.96l-1.37-1.37c-.4-.4-.92-.59-1.43-.59-.52 0-1.04.2-1.43.59L10.3 9.45l-7.72 7.72c-.78.78-.78 2.05 0 2.83L4 21.41c.39.39.9.59 1.41.59.51 0 1.02-.2 1.41-.59l7.78-7.78 2.81-2.81c.8-.78.8-2.07 0-2.86zM5.41 20L4 18.59l7.72-7.72 1.47 1.35L5.41 20z\"/>\n",
              "  </svg>\n",
              "      </button>\n",
              "      \n",
              "  <style>\n",
              "    .colab-df-container {\n",
              "      display:flex;\n",
              "      flex-wrap:wrap;\n",
              "      gap: 12px;\n",
              "    }\n",
              "\n",
              "    .colab-df-convert {\n",
              "      background-color: #E8F0FE;\n",
              "      border: none;\n",
              "      border-radius: 50%;\n",
              "      cursor: pointer;\n",
              "      display: none;\n",
              "      fill: #1967D2;\n",
              "      height: 32px;\n",
              "      padding: 0 0 0 0;\n",
              "      width: 32px;\n",
              "    }\n",
              "\n",
              "    .colab-df-convert:hover {\n",
              "      background-color: #E2EBFA;\n",
              "      box-shadow: 0px 1px 2px rgba(60, 64, 67, 0.3), 0px 1px 3px 1px rgba(60, 64, 67, 0.15);\n",
              "      fill: #174EA6;\n",
              "    }\n",
              "\n",
              "    [theme=dark] .colab-df-convert {\n",
              "      background-color: #3B4455;\n",
              "      fill: #D2E3FC;\n",
              "    }\n",
              "\n",
              "    [theme=dark] .colab-df-convert:hover {\n",
              "      background-color: #434B5C;\n",
              "      box-shadow: 0px 1px 3px 1px rgba(0, 0, 0, 0.15);\n",
              "      filter: drop-shadow(0px 1px 2px rgba(0, 0, 0, 0.3));\n",
              "      fill: #FFFFFF;\n",
              "    }\n",
              "  </style>\n",
              "\n",
              "      <script>\n",
              "        const buttonEl =\n",
              "          document.querySelector('#df-a36a41f9-f1e3-4a8d-9dfd-e66011b3a0ee button.colab-df-convert');\n",
              "        buttonEl.style.display =\n",
              "          google.colab.kernel.accessAllowed ? 'block' : 'none';\n",
              "\n",
              "        async function convertToInteractive(key) {\n",
              "          const element = document.querySelector('#df-a36a41f9-f1e3-4a8d-9dfd-e66011b3a0ee');\n",
              "          const dataTable =\n",
              "            await google.colab.kernel.invokeFunction('convertToInteractive',\n",
              "                                                     [key], {});\n",
              "          if (!dataTable) return;\n",
              "\n",
              "          const docLinkHtml = 'Like what you see? Visit the ' +\n",
              "            '<a target=\"_blank\" href=https://colab.research.google.com/notebooks/data_table.ipynb>data table notebook</a>'\n",
              "            + ' to learn more about interactive tables.';\n",
              "          element.innerHTML = '';\n",
              "          dataTable['output_type'] = 'display_data';\n",
              "          await google.colab.output.renderOutput(dataTable, element);\n",
              "          const docLink = document.createElement('div');\n",
              "          docLink.innerHTML = docLinkHtml;\n",
              "          element.appendChild(docLink);\n",
              "        }\n",
              "      </script>\n",
              "    </div>\n",
              "  </div>\n",
              "  "
            ]
          },
          "metadata": {},
          "execution_count": 48
        }
      ]
    },
    {
      "cell_type": "code",
      "source": [
        "# we can order the different models based on their performance\n",
        "results_knn.sort_values(by='mean_test_score', ascending=False, inplace=True)\n",
        "\n",
        "results_knn.reset_index(drop=True, inplace=True)\n",
        "\n",
        "# plot model performance and error\n",
        "\n",
        "results_knn['mean_test_score'].plot(yerr=[results_knn['std_test_score'], results_knn['std_test_score']], subplots=True)\n",
        "\n",
        "plt.ylabel('Mean test score')\n",
        "plt.xlabel('Hyperparameter combinations')"
      ],
      "metadata": {
        "colab": {
          "base_uri": "https://localhost:8080/",
          "height": 466
        },
        "outputId": "ef4832d6-59d3-4643-ef8e-a6b2347b461f",
        "id": "OMCjD5wHb4kq"
      },
      "execution_count": null,
      "outputs": [
        {
          "output_type": "execute_result",
          "data": {
            "text/plain": [
              "Text(0.5, 0, 'Hyperparameter combinations')"
            ]
          },
          "metadata": {},
          "execution_count": 49
        },
        {
          "output_type": "display_data",
          "data": {
            "text/plain": [
              "<Figure size 640x480 with 1 Axes>"
            ],
            "image/png": "[encoded data removed]"
          },
          "metadata": {}
        }
      ]
    },
    {
      "cell_type": "code",
      "source": [
        "# predict the results\n",
        "y_pred=search_knn.predict(X_test)"
      ],
      "metadata": {
        "id": "UZXj5T2gb4kr"
      },
      "execution_count": null,
      "outputs": []
    },
    {
      "cell_type": "code",
      "source": [
        "print(accuracy_score(y_test, y_pred))\n",
        "print(precision_score(y_test, y_pred))\n",
        "print(recall_score(y_test, y_pred))\n",
        "print(f1_score(y_test, y_pred))"
      ],
      "metadata": {
        "outputId": "175bcc0c-0ddd-4a26-ddfa-9363cbbdda12",
        "colab": {
          "base_uri": "https://localhost:8080/"
        },
        "id": "LygyaatWb4ks"
      },
      "execution_count": null,
      "outputs": [
        {
          "output_type": "stream",
          "name": "stdout",
          "text": [
            "0.9805282763291568\n",
            "0.9953531598513011\n",
            "0.9656260565761299\n",
            "0.9802642869401065\n"
          ]
        }
      ]
    },
    {
      "cell_type": "markdown",
      "source": [
        "![imagen.png](data:image/png;base64,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)"
      ],
      "metadata": {
        "id": "psI5reFimYFq"
      }
    },
    {
      "cell_type": "markdown",
      "source": [
        "## Logistic Regression"
      ],
      "metadata": {
        "id": "zgOWt4-XBZj8"
      }
    },
    {
      "cell_type": "code",
      "source": [
        "lr = LogisticRegression(solver = \"saga\")"
      ],
      "metadata": {
        "id": "rtbov3Pxyb0m"
      },
      "execution_count": null,
      "outputs": []
    },
    {
      "cell_type": "markdown",
      "source": [
        "Los hiperparámetros de LogisticRegression están dados en la [documentación](https://scikit-learn.org/stable/modules/generated/sklearn.linear_model.LogisticRegression.html) de scikit learn. Como solo se va a probar un hiperparámetro que tiene 3 valores pre-definidos, podemos usar GridSearch"
      ],
      "metadata": {
        "id": "nyJSD7rHOE4e"
      }
    },
    {
      "cell_type": "code",
      "source": [
        "from sklearn.model_selection import GridSearchCV"
      ],
      "metadata": {
        "id": "rqsc50IyOhdX"
      },
      "execution_count": null,
      "outputs": []
    },
    {
      "cell_type": "code",
      "source": [
        "clf_3 =  cross_validate(\n",
        "    lr,\n",
        "    X_train, \n",
        "    y_train,\n",
        "    scoring='recall',\n",
        "    return_train_score=True,\n",
        "    cv=skf,\n",
        ")"
      ],
      "metadata": {
        "id": "tiHRE6AH56Eb"
      },
      "execution_count": null,
      "outputs": []
    },
    {
      "cell_type": "code",
      "source": [
        "print(clf_3['train_score'].mean())\n",
        "print(clf_3['test_score'].mean())"
      ],
      "metadata": {
        "colab": {
          "base_uri": "https://localhost:8080/"
        },
        "id": "AI_uMeiR5-3Q",
        "outputId": "b99ea802-dee3-4a9f-c097-9f86de7ea125"
      },
      "execution_count": null,
      "outputs": [
        {
          "output_type": "stream",
          "name": "stdout",
          "text": [
            "0.8859022999715739\n",
            "0.8859461621801816\n"
          ]
        }
      ]
    },
    {
      "cell_type": "code",
      "source": [
        "plt.plot(range(10), clf_3['test_score'], label='Test')\n",
        "plt.plot(range(10), clf_3['train_score'], label='Train')\n",
        "plt.legend(title='Train vs Test:')\n",
        "plt.show()"
      ],
      "metadata": {
        "colab": {
          "base_uri": "https://localhost:8080/",
          "height": 431
        },
        "id": "u968Y3h56GDn",
        "outputId": "0a32166d-ce34-4815-89e7-c60391e35ebb"
      },
      "execution_count": null,
      "outputs": [
        {
          "output_type": "display_data",
          "data": {
            "text/plain": [
              "<Figure size 640x480 with 1 Axes>"
            ],
            "image/png": "[encoded data removed]"
          },
          "metadata": {}
        }
      ]
    },
    {
      "cell_type": "code",
      "source": [
        "lr.fit(X_train, y_train)"
      ],
      "metadata": {
        "colab": {
          "base_uri": "https://localhost:8080/",
          "height": 74
        },
        "id": "epkH2jjb6NbA",
        "outputId": "afc30201-ce7f-4940-b34f-32dca87a529a"
      },
      "execution_count": null,
      "outputs": [
        {
          "output_type": "execute_result",
          "data": {
            "text/plain": [
              "LogisticRegression(solver='saga')"
            ],
            "text/html": [
              "<style>#sk-container-id-5 {color: black;background-color: white;}#sk-container-id-5 pre{padding: 0;}#sk-container-id-5 div.sk-toggleable {background-color: white;}#sk-container-id-5 label.sk-toggleable__label {cursor: pointer;display: block;width: 100%;margin-bottom: 0;padding: 0.3em;box-sizing: border-box;text-align: center;}#sk-container-id-5 label.sk-toggleable__label-arrow:before {content: \"▸\";float: left;margin-right: 0.25em;color: #696969;}#sk-container-id-5 label.sk-toggleable__label-arrow:hover:before {color: black;}#sk-container-id-5 div.sk-estimator:hover label.sk-toggleable__label-arrow:before {color: black;}#sk-container-id-5 div.sk-toggleable__content {max-height: 0;max-width: 0;overflow: hidden;text-align: left;background-color: #f0f8ff;}#sk-container-id-5 div.sk-toggleable__content pre {margin: 0.2em;color: black;border-radius: 0.25em;background-color: #f0f8ff;}#sk-container-id-5 input.sk-toggleable__control:checked~div.sk-toggleable__content {max-height: 200px;max-width: 100%;overflow: auto;}#sk-container-id-5 input.sk-toggleable__control:checked~label.sk-toggleable__label-arrow:before {content: \"▾\";}#sk-container-id-5 div.sk-estimator input.sk-toggleable__control:checked~label.sk-toggleable__label {background-color: #d4ebff;}#sk-container-id-5 div.sk-label input.sk-toggleable__control:checked~label.sk-toggleable__label {background-color: #d4ebff;}#sk-container-id-5 input.sk-hidden--visually {border: 0;clip: rect(1px 1px 1px 1px);clip: rect(1px, 1px, 1px, 1px);height: 1px;margin: -1px;overflow: hidden;padding: 0;position: absolute;width: 1px;}#sk-container-id-5 div.sk-estimator {font-family: monospace;background-color: #f0f8ff;border: 1px dotted black;border-radius: 0.25em;box-sizing: border-box;margin-bottom: 0.5em;}#sk-container-id-5 div.sk-estimator:hover {background-color: #d4ebff;}#sk-container-id-5 div.sk-parallel-item::after {content: \"\";width: 100%;border-bottom: 1px solid gray;flex-grow: 1;}#sk-container-id-5 div.sk-label:hover label.sk-toggleable__label {background-color: #d4ebff;}#sk-container-id-5 div.sk-serial::before {content: \"\";position: absolute;border-left: 1px solid gray;box-sizing: border-box;top: 0;bottom: 0;left: 50%;z-index: 0;}#sk-container-id-5 div.sk-serial {display: flex;flex-direction: column;align-items: center;background-color: white;padding-right: 0.2em;padding-left: 0.2em;position: relative;}#sk-container-id-5 div.sk-item {position: relative;z-index: 1;}#sk-container-id-5 div.sk-parallel {display: flex;align-items: stretch;justify-content: center;background-color: white;position: relative;}#sk-container-id-5 div.sk-item::before, #sk-container-id-5 div.sk-parallel-item::before {content: \"\";position: absolute;border-left: 1px solid gray;box-sizing: border-box;top: 0;bottom: 0;left: 50%;z-index: -1;}#sk-container-id-5 div.sk-parallel-item {display: flex;flex-direction: column;z-index: 1;position: relative;background-color: white;}#sk-container-id-5 div.sk-parallel-item:first-child::after {align-self: flex-end;width: 50%;}#sk-container-id-5 div.sk-parallel-item:last-child::after {align-self: flex-start;width: 50%;}#sk-container-id-5 div.sk-parallel-item:only-child::after {width: 0;}#sk-container-id-5 div.sk-dashed-wrapped {border: 1px dashed gray;margin: 0 0.4em 0.5em 0.4em;box-sizing: border-box;padding-bottom: 0.4em;background-color: white;}#sk-container-id-5 div.sk-label label {font-family: monospace;font-weight: bold;display: inline-block;line-height: 1.2em;}#sk-container-id-5 div.sk-label-container {text-align: center;}#sk-container-id-5 div.sk-container {/* jupyter's `normalize.less` sets `[hidden] { display: none; }` but bootstrap.min.css set `[hidden] { display: none !important; }` so we also need the `!important` here to be able to override the default hidden behavior on the sphinx rendered scikit-learn.org. See: https://github.com/scikit-learn/scikit-learn/issues/21755 */display: inline-block !important;position: relative;}#sk-container-id-5 div.sk-text-repr-fallback {display: none;}</style><div id=\"sk-container-id-5\" class=\"sk-top-container\"><div class=\"sk-text-repr-fallback\"><pre>LogisticRegression(solver=&#x27;saga&#x27;)</pre><b>In a Jupyter environment, please rerun this cell to show the HTML representation or trust the notebook. <br />On GitHub, the HTML representation is unable to render, please try loading this page with nbviewer.org.</b></div><div class=\"sk-container\" hidden><div class=\"sk-item\"><div class=\"sk-estimator sk-toggleable\"><input class=\"sk-toggleable__control sk-hidden--visually\" id=\"sk-estimator-id-9\" type=\"checkbox\" checked><label for=\"sk-estimator-id-9\" class=\"sk-toggleable__label sk-toggleable__label-arrow\">LogisticRegression</label><div class=\"sk-toggleable__content\"><pre>LogisticRegression(solver=&#x27;saga&#x27;)</pre></div></div></div></div></div>"
            ]
          },
          "metadata": {},
          "execution_count": 57
        }
      ]
    },
    {
      "cell_type": "code",
      "source": [
        "y_pred=lr.predict(X_test)"
      ],
      "metadata": {
        "id": "s5ORb76F6QxP"
      },
      "execution_count": null,
      "outputs": []
    },
    {
      "cell_type": "code",
      "source": [
        "print(accuracy_score(y_test, y_pred))\n",
        "print(precision_score(y_test, y_pred))\n",
        "print(recall_score(y_test, y_pred))\n",
        "print(f1_score(y_test, y_pred))"
      ],
      "metadata": {
        "colab": {
          "base_uri": "https://localhost:8080/"
        },
        "id": "QRWbS6QX6Wg4",
        "outputId": "d0b7f926-6e44-4305-c0fe-f14b605e8e42"
      },
      "execution_count": null,
      "outputs": [
        {
          "output_type": "stream",
          "name": "stdout",
          "text": [
            "0.8862174060277683\n",
            "0.8853546139148027\n",
            "0.8877493519666404\n",
            "0.886550365785031\n"
          ]
        }
      ]
    },
    {
      "cell_type": "code",
      "source": [
        "param_grid_lr = {\n",
        "    'penalty': ['l1', 'l2', 'elasticnet'], # default = 'l2'\n",
        "}"
      ],
      "metadata": {
        "id": "E-K2ZH9XN1fc"
      },
      "execution_count": null,
      "outputs": []
    },
    {
      "cell_type": "code",
      "source": [],
      "metadata": {
        "id": "0CEoViaaeDN4"
      },
      "execution_count": null,
      "outputs": []
    },
    {
      "cell_type": "markdown",
      "source": [
        "Ahora optimizando con hiperparámetros"
      ],
      "metadata": {
        "id": "E08qQq2zeENA"
      }
    },
    {
      "cell_type": "code",
      "source": [
        "# set up the search\n",
        "search_lr = GridSearchCV(estimator=lr,\n",
        "                          param_grid=param_grid_lr,\n",
        "                          scoring='roc_auc',\n",
        "                          n_jobs=-1, # Cuando colocamos menos 1 quiere decir que usaremos todos los cores disponibles en nuestra maquina\n",
        "                          verbose = True,\n",
        "                          cv=4,\n",
        "                          refit=True, \n",
        "                          return_train_score=True)"
      ],
      "metadata": {
        "id": "M3SEy1m9eEND"
      },
      "execution_count": null,
      "outputs": []
    },
    {
      "cell_type": "code",
      "source": [
        "search_lr.fit(X_train, y_train)"
      ],
      "metadata": {
        "colab": {
          "base_uri": "https://localhost:8080/",
          "height": 849
        },
        "outputId": "0404865c-ae14-4e38-9dfb-4069e2952b45",
        "id": "vRy63PodeENG"
      },
      "execution_count": null,
      "outputs": [
        {
          "output_type": "stream",
          "name": "stdout",
          "text": [
            "Fitting 4 folds for each of 3 candidates, totalling 12 fits\n"
          ]
        },
        {
          "output_type": "stream",
          "name": "stderr",
          "text": [
            "/usr/local/lib/python3.10/dist-packages/sklearn/model_selection/_validation.py:378: FitFailedWarning: \n",
            "4 fits failed out of a total of 12.\n",
            "The score on these train-test partitions for these parameters will be set to nan.\n",
            "If these failures are not expected, you can try to debug them by setting error_score='raise'.\n",
            "\n",
            "Below are more details about the failures:\n",
            "--------------------------------------------------------------------------------\n",
            "4 fits failed with the following error:\n",
            "Traceback (most recent call last):\n",
            "  File \"/usr/local/lib/python3.10/dist-packages/sklearn/model_selection/_validation.py\", line 686, in _fit_and_score\n",
            "    estimator.fit(X_train, y_train, **fit_params)\n",
            "  File \"/usr/local/lib/python3.10/dist-packages/sklearn/linear_model/_logistic.py\", line 1291, in fit\n",
            "    fold_coefs_ = Parallel(n_jobs=self.n_jobs, verbose=self.verbose, prefer=prefer)(\n",
            "  File \"/usr/local/lib/python3.10/dist-packages/sklearn/utils/parallel.py\", line 63, in __call__\n",
            "    return super().__call__(iterable_with_config)\n",
            "  File \"/usr/local/lib/python3.10/dist-packages/joblib/parallel.py\", line 1085, in __call__\n",
            "    if self.dispatch_one_batch(iterator):\n",
            "  File \"/usr/local/lib/python3.10/dist-packages/joblib/parallel.py\", line 901, in dispatch_one_batch\n",
            "    self._dispatch(tasks)\n",
            "  File \"/usr/local/lib/python3.10/dist-packages/joblib/parallel.py\", line 819, in _dispatch\n",
            "    job = self._backend.apply_async(batch, callback=cb)\n",
            "  File \"/usr/local/lib/python3.10/dist-packages/joblib/_parallel_backends.py\", line 208, in apply_async\n",
            "    result = ImmediateResult(func)\n",
            "  File \"/usr/local/lib/python3.10/dist-packages/joblib/_parallel_backends.py\", line 597, in __init__\n",
            "    self.results = batch()\n",
            "  File \"/usr/local/lib/python3.10/dist-packages/joblib/parallel.py\", line 288, in __call__\n",
            "    return [func(*args, **kwargs)\n",
            "  File \"/usr/local/lib/python3.10/dist-packages/joblib/parallel.py\", line 288, in <listcomp>\n",
            "    return [func(*args, **kwargs)\n",
            "  File \"/usr/local/lib/python3.10/dist-packages/sklearn/utils/parallel.py\", line 123, in __call__\n",
            "    return self.function(*args, **kwargs)\n",
            "  File \"/usr/local/lib/python3.10/dist-packages/sklearn/linear_model/_logistic.py\", line 521, in _logistic_regression_path\n",
            "    alpha = (1.0 / C) * (1 - l1_ratio)\n",
            "TypeError: unsupported operand type(s) for -: 'int' and 'NoneType'\n",
            "\n",
            "  warnings.warn(some_fits_failed_message, FitFailedWarning)\n",
            "/usr/local/lib/python3.10/dist-packages/sklearn/model_selection/_search.py:952: UserWarning: One or more of the test scores are non-finite: [0.95456801 0.95456882        nan]\n",
            "  warnings.warn(\n",
            "/usr/local/lib/python3.10/dist-packages/sklearn/model_selection/_search.py:952: UserWarning: One or more of the train scores are non-finite: [0.95460151 0.95460187        nan]\n",
            "  warnings.warn(\n"
          ]
        },
        {
          "output_type": "execute_result",
          "data": {
            "text/plain": [
              "GridSearchCV(cv=4, estimator=LogisticRegression(solver='saga'), n_jobs=-1,\n",
              "             param_grid={'penalty': ['l1', 'l2', 'elasticnet']},\n",
              "             return_train_score=True, scoring='roc_auc', verbose=True)"
            ],
            "text/html": [
              "<style>#sk-container-id-6 {color: black;background-color: white;}#sk-container-id-6 pre{padding: 0;}#sk-container-id-6 div.sk-toggleable {background-color: white;}#sk-container-id-6 label.sk-toggleable__label {cursor: pointer;display: block;width: 100%;margin-bottom: 0;padding: 0.3em;box-sizing: border-box;text-align: center;}#sk-container-id-6 label.sk-toggleable__label-arrow:before {content: \"▸\";float: left;margin-right: 0.25em;color: #696969;}#sk-container-id-6 label.sk-toggleable__label-arrow:hover:before {color: black;}#sk-container-id-6 div.sk-estimator:hover label.sk-toggleable__label-arrow:before {color: black;}#sk-container-id-6 div.sk-toggleable__content {max-height: 0;max-width: 0;overflow: hidden;text-align: left;background-color: #f0f8ff;}#sk-container-id-6 div.sk-toggleable__content pre {margin: 0.2em;color: black;border-radius: 0.25em;background-color: #f0f8ff;}#sk-container-id-6 input.sk-toggleable__control:checked~div.sk-toggleable__content {max-height: 200px;max-width: 100%;overflow: auto;}#sk-container-id-6 input.sk-toggleable__control:checked~label.sk-toggleable__label-arrow:before {content: \"▾\";}#sk-container-id-6 div.sk-estimator input.sk-toggleable__control:checked~label.sk-toggleable__label {background-color: #d4ebff;}#sk-container-id-6 div.sk-label input.sk-toggleable__control:checked~label.sk-toggleable__label {background-color: #d4ebff;}#sk-container-id-6 input.sk-hidden--visually {border: 0;clip: rect(1px 1px 1px 1px);clip: rect(1px, 1px, 1px, 1px);height: 1px;margin: -1px;overflow: hidden;padding: 0;position: absolute;width: 1px;}#sk-container-id-6 div.sk-estimator {font-family: monospace;background-color: #f0f8ff;border: 1px dotted black;border-radius: 0.25em;box-sizing: border-box;margin-bottom: 0.5em;}#sk-container-id-6 div.sk-estimator:hover {background-color: #d4ebff;}#sk-container-id-6 div.sk-parallel-item::after {content: \"\";width: 100%;border-bottom: 1px solid gray;flex-grow: 1;}#sk-container-id-6 div.sk-label:hover label.sk-toggleable__label {background-color: #d4ebff;}#sk-container-id-6 div.sk-serial::before {content: \"\";position: absolute;border-left: 1px solid gray;box-sizing: border-box;top: 0;bottom: 0;left: 50%;z-index: 0;}#sk-container-id-6 div.sk-serial {display: flex;flex-direction: column;align-items: center;background-color: white;padding-right: 0.2em;padding-left: 0.2em;position: relative;}#sk-container-id-6 div.sk-item {position: relative;z-index: 1;}#sk-container-id-6 div.sk-parallel {display: flex;align-items: stretch;justify-content: center;background-color: white;position: relative;}#sk-container-id-6 div.sk-item::before, #sk-container-id-6 div.sk-parallel-item::before {content: \"\";position: absolute;border-left: 1px solid gray;box-sizing: border-box;top: 0;bottom: 0;left: 50%;z-index: -1;}#sk-container-id-6 div.sk-parallel-item {display: flex;flex-direction: column;z-index: 1;position: relative;background-color: white;}#sk-container-id-6 div.sk-parallel-item:first-child::after {align-self: flex-end;width: 50%;}#sk-container-id-6 div.sk-parallel-item:last-child::after {align-self: flex-start;width: 50%;}#sk-container-id-6 div.sk-parallel-item:only-child::after {width: 0;}#sk-container-id-6 div.sk-dashed-wrapped {border: 1px dashed gray;margin: 0 0.4em 0.5em 0.4em;box-sizing: border-box;padding-bottom: 0.4em;background-color: white;}#sk-container-id-6 div.sk-label label {font-family: monospace;font-weight: bold;display: inline-block;line-height: 1.2em;}#sk-container-id-6 div.sk-label-container {text-align: center;}#sk-container-id-6 div.sk-container {/* jupyter's `normalize.less` sets `[hidden] { display: none; }` but bootstrap.min.css set `[hidden] { display: none !important; }` so we also need the `!important` here to be able to override the default hidden behavior on the sphinx rendered scikit-learn.org. See: https://github.com/scikit-learn/scikit-learn/issues/21755 */display: inline-block !important;position: relative;}#sk-container-id-6 div.sk-text-repr-fallback {display: none;}</style><div id=\"sk-container-id-6\" class=\"sk-top-container\"><div class=\"sk-text-repr-fallback\"><pre>GridSearchCV(cv=4, estimator=LogisticRegression(solver=&#x27;saga&#x27;), n_jobs=-1,\n",
              "             param_grid={&#x27;penalty&#x27;: [&#x27;l1&#x27;, &#x27;l2&#x27;, &#x27;elasticnet&#x27;]},\n",
              "             return_train_score=True, scoring=&#x27;roc_auc&#x27;, verbose=True)</pre><b>In a Jupyter environment, please rerun this cell to show the HTML representation or trust the notebook. <br />On GitHub, the HTML representation is unable to render, please try loading this page with nbviewer.org.</b></div><div class=\"sk-container\" hidden><div class=\"sk-item sk-dashed-wrapped\"><div class=\"sk-label-container\"><div class=\"sk-label sk-toggleable\"><input class=\"sk-toggleable__control sk-hidden--visually\" id=\"sk-estimator-id-10\" type=\"checkbox\" ><label for=\"sk-estimator-id-10\" class=\"sk-toggleable__label sk-toggleable__label-arrow\">GridSearchCV</label><div class=\"sk-toggleable__content\"><pre>GridSearchCV(cv=4, estimator=LogisticRegression(solver=&#x27;saga&#x27;), n_jobs=-1,\n",
              "             param_grid={&#x27;penalty&#x27;: [&#x27;l1&#x27;, &#x27;l2&#x27;, &#x27;elasticnet&#x27;]},\n",
              "             return_train_score=True, scoring=&#x27;roc_auc&#x27;, verbose=True)</pre></div></div></div><div class=\"sk-parallel\"><div class=\"sk-parallel-item\"><div class=\"sk-item\"><div class=\"sk-label-container\"><div class=\"sk-label sk-toggleable\"><input class=\"sk-toggleable__control sk-hidden--visually\" id=\"sk-estimator-id-11\" type=\"checkbox\" ><label for=\"sk-estimator-id-11\" class=\"sk-toggleable__label sk-toggleable__label-arrow\">estimator: LogisticRegression</label><div class=\"sk-toggleable__content\"><pre>LogisticRegression(solver=&#x27;saga&#x27;)</pre></div></div></div><div class=\"sk-serial\"><div class=\"sk-item\"><div class=\"sk-estimator sk-toggleable\"><input class=\"sk-toggleable__control sk-hidden--visually\" id=\"sk-estimator-id-12\" type=\"checkbox\" ><label for=\"sk-estimator-id-12\" class=\"sk-toggleable__label sk-toggleable__label-arrow\">LogisticRegression</label><div class=\"sk-toggleable__content\"><pre>LogisticRegression(solver=&#x27;saga&#x27;)</pre></div></div></div></div></div></div></div></div></div></div>"
            ]
          },
          "metadata": {},
          "execution_count": 62
        }
      ]
    },
    {
      "cell_type": "code",
      "source": [
        "search_lr.best_params_"
      ],
      "metadata": {
        "colab": {
          "base_uri": "https://localhost:8080/"
        },
        "outputId": "b9e03948-89e2-4b48-feae-bfbb22912815",
        "id": "3dDKiunAeENJ"
      },
      "execution_count": null,
      "outputs": [
        {
          "output_type": "execute_result",
          "data": {
            "text/plain": [
              "{'penalty': 'l2'}"
            ]
          },
          "metadata": {},
          "execution_count": 63
        }
      ]
    },
    {
      "cell_type": "code",
      "source": [
        "search_lr.best_score_"
      ],
      "metadata": {
        "colab": {
          "base_uri": "https://localhost:8080/"
        },
        "outputId": "1df68273-bc3c-49a1-e60b-ce01d9968cfd",
        "id": "kXc3Vi7_eENM"
      },
      "execution_count": null,
      "outputs": [
        {
          "output_type": "execute_result",
          "data": {
            "text/plain": [
              "0.9545688236323085"
            ]
          },
          "metadata": {},
          "execution_count": 64
        }
      ]
    },
    {
      "cell_type": "code",
      "source": [
        "# we also find the data for all models evaluated\n",
        "\n",
        "results_lr = pd.DataFrame(search_lr.cv_results_)\n",
        "\n",
        "print(results_lr.shape)\n",
        "\n",
        "results_lr.head(5)"
      ],
      "metadata": {
        "colab": {
          "base_uri": "https://localhost:8080/",
          "height": 277
        },
        "outputId": "a1139f69-e816-41d3-91e6-3eed7af5c545",
        "id": "mLe--NbqeENP"
      },
      "execution_count": null,
      "outputs": [
        {
          "output_type": "stream",
          "name": "stdout",
          "text": [
            "(3, 19)\n"
          ]
        },
        {
          "output_type": "execute_result",
          "data": {
            "text/plain": [
              "   mean_fit_time  std_fit_time  mean_score_time  std_score_time param_penalty  \\\n",
              "0       0.602381      0.062917         0.010486        0.000403            l1   \n",
              "1       0.494720      0.035793         0.009206        0.000832            l2   \n",
              "2       0.009837      0.000183         0.000000        0.000000    elasticnet   \n",
              "\n",
              "                      params  split0_test_score  split1_test_score  \\\n",
              "0          {'penalty': 'l1'}           0.955742           0.954503   \n",
              "1          {'penalty': 'l2'}           0.955743           0.954507   \n",
              "2  {'penalty': 'elasticnet'}                NaN                NaN   \n",
              "\n",
              "   split2_test_score  split3_test_score  mean_test_score  std_test_score  \\\n",
              "0           0.952492           0.955536         0.954568        0.001287   \n",
              "1           0.952488           0.955537         0.954569        0.001289   \n",
              "2                NaN                NaN              NaN             NaN   \n",
              "\n",
              "   rank_test_score  split0_train_score  split1_train_score  \\\n",
              "0                2            0.954177            0.954669   \n",
              "1                1            0.954178            0.954669   \n",
              "2                3                 NaN                 NaN   \n",
              "\n",
              "   split2_train_score  split3_train_score  mean_train_score  std_train_score  \n",
              "0            0.955292            0.954269          0.954602         0.000439  \n",
              "1            0.955292            0.954269          0.954602         0.000439  \n",
              "2                 NaN                 NaN               NaN              NaN  "
            ],
            "text/html": [
              "\n",
              "  <div id=\"df-46e9445f-a93b-4011-82a9-578e3fad0c3c\">\n",
              "    <div class=\"colab-df-container\">\n",
              "      <div>\n",
              "<style scoped>\n",
              "    .dataframe tbody tr th:only-of-type {\n",
              "        vertical-align: middle;\n",
              "    }\n",
              "\n",
              "    .dataframe tbody tr th {\n",
              "        vertical-align: top;\n",
              "    }\n",
              "\n",
              "    .dataframe thead th {\n",
              "        text-align: right;\n",
              "    }\n",
              "</style>\n",
              "<table border=\"1\" class=\"dataframe\">\n",
              "  <thead>\n",
              "    <tr style=\"text-align: right;\">\n",
              "      <th></th>\n",
              "      <th>mean_fit_time</th>\n",
              "      <th>std_fit_time</th>\n",
              "      <th>mean_score_time</th>\n",
              "      <th>std_score_time</th>\n",
              "      <th>param_penalty</th>\n",
              "      <th>params</th>\n",
              "      <th>split0_test_score</th>\n",
              "      <th>split1_test_score</th>\n",
              "      <th>split2_test_score</th>\n",
              "      <th>split3_test_score</th>\n",
              "      <th>mean_test_score</th>\n",
              "      <th>std_test_score</th>\n",
              "      <th>rank_test_score</th>\n",
              "      <th>split0_train_score</th>\n",
              "      <th>split1_train_score</th>\n",
              "      <th>split2_train_score</th>\n",
              "      <th>split3_train_score</th>\n",
              "      <th>mean_train_score</th>\n",
              "      <th>std_train_score</th>\n",
              "    </tr>\n",
              "  </thead>\n",
              "  <tbody>\n",
              "    <tr>\n",
              "      <th>0</th>\n",
              "      <td>0.602381</td>\n",
              "      <td>0.062917</td>\n",
              "      <td>0.010486</td>\n",
              "      <td>0.000403</td>\n",
              "      <td>l1</td>\n",
              "      <td>{'penalty': 'l1'}</td>\n",
              "      <td>0.955742</td>\n",
              "      <td>0.954503</td>\n",
              "      <td>0.952492</td>\n",
              "      <td>0.955536</td>\n",
              "      <td>0.954568</td>\n",
              "      <td>0.001287</td>\n",
              "      <td>2</td>\n",
              "      <td>0.954177</td>\n",
              "      <td>0.954669</td>\n",
              "      <td>0.955292</td>\n",
              "      <td>0.954269</td>\n",
              "      <td>0.954602</td>\n",
              "      <td>0.000439</td>\n",
              "    </tr>\n",
              "    <tr>\n",
              "      <th>1</th>\n",
              "      <td>0.494720</td>\n",
              "      <td>0.035793</td>\n",
              "      <td>0.009206</td>\n",
              "      <td>0.000832</td>\n",
              "      <td>l2</td>\n",
              "      <td>{'penalty': 'l2'}</td>\n",
              "      <td>0.955743</td>\n",
              "      <td>0.954507</td>\n",
              "      <td>0.952488</td>\n",
              "      <td>0.955537</td>\n",
              "      <td>0.954569</td>\n",
              "      <td>0.001289</td>\n",
              "      <td>1</td>\n",
              "      <td>0.954178</td>\n",
              "      <td>0.954669</td>\n",
              "      <td>0.955292</td>\n",
              "      <td>0.954269</td>\n",
              "      <td>0.954602</td>\n",
              "      <td>0.000439</td>\n",
              "    </tr>\n",
              "    <tr>\n",
              "      <th>2</th>\n",
              "      <td>0.009837</td>\n",
              "      <td>0.000183</td>\n",
              "      <td>0.000000</td>\n",
              "      <td>0.000000</td>\n",
              "      <td>elasticnet</td>\n",
              "      <td>{'penalty': 'elasticnet'}</td>\n",
              "      <td>NaN</td>\n",
              "      <td>NaN</td>\n",
              "      <td>NaN</td>\n",
              "      <td>NaN</td>\n",
              "      <td>NaN</td>\n",
              "      <td>NaN</td>\n",
              "      <td>3</td>\n",
              "      <td>NaN</td>\n",
              "      <td>NaN</td>\n",
              "      <td>NaN</td>\n",
              "      <td>NaN</td>\n",
              "      <td>NaN</td>\n",
              "      <td>NaN</td>\n",
              "    </tr>\n",
              "  </tbody>\n",
              "</table>\n",
              "</div>\n",
              "      <button class=\"colab-df-convert\" onclick=\"convertToInteractive('df-46e9445f-a93b-4011-82a9-578e3fad0c3c')\"\n",
              "              title=\"Convert this dataframe to an interactive table.\"\n",
              "              style=\"display:none;\">\n",
              "        \n",
              "  <svg xmlns=\"http://www.w3.org/2000/svg\" height=\"24px\"viewBox=\"0 0 24 24\"\n",
              "       width=\"24px\">\n",
              "    <path d=\"M0 0h24v24H0V0z\" fill=\"none\"/>\n",
              "    <path d=\"M18.56 5.44l.94 2.06.94-2.06 2.06-.94-2.06-.94-.94-2.06-.94 2.06-2.06.94zm-11 1L8.5 8.5l.94-2.06 2.06-.94-2.06-.94L8.5 2.5l-.94 2.06-2.06.94zm10 10l.94 2.06.94-2.06 2.06-.94-2.06-.94-.94-2.06-.94 2.06-2.06.94z\"/><path d=\"M17.41 7.96l-1.37-1.37c-.4-.4-.92-.59-1.43-.59-.52 0-1.04.2-1.43.59L10.3 9.45l-7.72 7.72c-.78.78-.78 2.05 0 2.83L4 21.41c.39.39.9.59 1.41.59.51 0 1.02-.2 1.41-.59l7.78-7.78 2.81-2.81c.8-.78.8-2.07 0-2.86zM5.41 20L4 18.59l7.72-7.72 1.47 1.35L5.41 20z\"/>\n",
              "  </svg>\n",
              "      </button>\n",
              "      \n",
              "  <style>\n",
              "    .colab-df-container {\n",
              "      display:flex;\n",
              "      flex-wrap:wrap;\n",
              "      gap: 12px;\n",
              "    }\n",
              "\n",
              "    .colab-df-convert {\n",
              "      background-color: #E8F0FE;\n",
              "      border: none;\n",
              "      border-radius: 50%;\n",
              "      cursor: pointer;\n",
              "      display: none;\n",
              "      fill: #1967D2;\n",
              "      height: 32px;\n",
              "      padding: 0 0 0 0;\n",
              "      width: 32px;\n",
              "    }\n",
              "\n",
              "    .colab-df-convert:hover {\n",
              "      background-color: #E2EBFA;\n",
              "      box-shadow: 0px 1px 2px rgba(60, 64, 67, 0.3), 0px 1px 3px 1px rgba(60, 64, 67, 0.15);\n",
              "      fill: #174EA6;\n",
              "    }\n",
              "\n",
              "    [theme=dark] .colab-df-convert {\n",
              "      background-color: #3B4455;\n",
              "      fill: #D2E3FC;\n",
              "    }\n",
              "\n",
              "    [theme=dark] .colab-df-convert:hover {\n",
              "      background-color: #434B5C;\n",
              "      box-shadow: 0px 1px 3px 1px rgba(0, 0, 0, 0.15);\n",
              "      filter: drop-shadow(0px 1px 2px rgba(0, 0, 0, 0.3));\n",
              "      fill: #FFFFFF;\n",
              "    }\n",
              "  </style>\n",
              "\n",
              "      <script>\n",
              "        const buttonEl =\n",
              "          document.querySelector('#df-46e9445f-a93b-4011-82a9-578e3fad0c3c button.colab-df-convert');\n",
              "        buttonEl.style.display =\n",
              "          google.colab.kernel.accessAllowed ? 'block' : 'none';\n",
              "\n",
              "        async function convertToInteractive(key) {\n",
              "          const element = document.querySelector('#df-46e9445f-a93b-4011-82a9-578e3fad0c3c');\n",
              "          const dataTable =\n",
              "            await google.colab.kernel.invokeFunction('convertToInteractive',\n",
              "                                                     [key], {});\n",
              "          if (!dataTable) return;\n",
              "\n",
              "          const docLinkHtml = 'Like what you see? Visit the ' +\n",
              "            '<a target=\"_blank\" href=https://colab.research.google.com/notebooks/data_table.ipynb>data table notebook</a>'\n",
              "            + ' to learn more about interactive tables.';\n",
              "          element.innerHTML = '';\n",
              "          dataTable['output_type'] = 'display_data';\n",
              "          await google.colab.output.renderOutput(dataTable, element);\n",
              "          const docLink = document.createElement('div');\n",
              "          docLink.innerHTML = docLinkHtml;\n",
              "          element.appendChild(docLink);\n",
              "        }\n",
              "      </script>\n",
              "    </div>\n",
              "  </div>\n",
              "  "
            ]
          },
          "metadata": {},
          "execution_count": 65
        }
      ]
    },
    {
      "cell_type": "code",
      "source": [
        "results_knn['std_test_score']"
      ],
      "metadata": {
        "colab": {
          "base_uri": "https://localhost:8080/"
        },
        "id": "zXs-AQkCjosu",
        "outputId": "f4708898-05d0-4628-9f9d-8a279a274df3"
      },
      "execution_count": null,
      "outputs": [
        {
          "output_type": "execute_result",
          "data": {
            "text/plain": [
              "0     0.000346\n",
              "1     0.000346\n",
              "2     0.000346\n",
              "3     0.000346\n",
              "4     0.000346\n",
              "5     0.000382\n",
              "6     0.000382\n",
              "7     0.000386\n",
              "8     0.000359\n",
              "9     0.000414\n",
              "10    0.000453\n",
              "11    0.000418\n",
              "12    0.000465\n",
              "13    0.000325\n",
              "14    0.000331\n",
              "15    0.000339\n",
              "16    0.000296\n",
              "17    0.000307\n",
              "18    0.000378\n",
              "19    0.000378\n",
              "20    0.000343\n",
              "21    0.000343\n",
              "22    0.000343\n",
              "23    0.000343\n",
              "24    0.000343\n",
              "25    0.000355\n",
              "26    0.000362\n",
              "27    0.000372\n",
              "28    0.000370\n",
              "29    0.000411\n",
              "Name: std_test_score, dtype: float64"
            ]
          },
          "metadata": {},
          "execution_count": 66
        }
      ]
    },
    {
      "cell_type": "code",
      "source": [
        "# # we can order the different models based on their performance\n",
        "# results_lr.sort_values(by='mean_test_score', ascending=False, inplace=True)\n",
        "\n",
        "# results_lr.reset_index(drop=True, inplace=True)\n",
        "\n",
        "# # plot model performance and error\n",
        "\n",
        "# results_lr['mean_test_score'].plot(yerr=[results_knn['std_test_score'], results_knn['std_test_score']], subplots=True)\n",
        "\n",
        "# plt.ylabel('Mean test score')\n",
        "# plt.xlabel('Hyperparameter combinations')"
      ],
      "metadata": {
        "id": "7Mu1Hp6weENQ"
      },
      "execution_count": null,
      "outputs": []
    },
    {
      "cell_type": "code",
      "source": [
        "# predict the results\n",
        "y_pred=search_lr.predict(X_test)"
      ],
      "metadata": {
        "id": "fnZb05e3eENS"
      },
      "execution_count": null,
      "outputs": []
    },
    {
      "cell_type": "code",
      "source": [
        "print(accuracy_score(y_test, y_pred))\n",
        "print(precision_score(y_test, y_pred))\n",
        "print(recall_score(y_test, y_pred))\n",
        "print(f1_score(y_test, y_pred))"
      ],
      "metadata": {
        "outputId": "21f5d066-19b3-460a-9a69-3fc331a323b2",
        "colab": {
          "base_uri": "https://localhost:8080/"
        },
        "id": "hJynLZg1eENU"
      },
      "execution_count": null,
      "outputs": [
        {
          "output_type": "stream",
          "name": "stdout",
          "text": [
            "0.8863867253640366\n",
            "0.88556654676259\n",
            "0.8878620534204891\n",
            "0.8867128144521357\n"
          ]
        }
      ]
    },
    {
      "cell_type": "markdown",
      "source": [
        "![imagen.png](data:image/png;base64,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)"
      ],
      "metadata": {
        "id": "iCvhq4hQxrEm"
      }
    },
    {
      "cell_type": "code",
      "source": [],
      "metadata": {
        "id": "Pd4jYG6Jmj4J"
      },
      "execution_count": null,
      "outputs": []
    }
  ]
}